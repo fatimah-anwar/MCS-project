{
 "cells": [
  {
   "cell_type": "code",
   "execution_count": 1,
   "id": "8737cacb",
   "metadata": {},
   "outputs": [
    {
     "name": "stdout",
     "output_type": "stream",
     "text": [
      "Intel MKL WARNING: Support of Intel(R) Streaming SIMD Extensions 4.2 (Intel(R) SSE4.2) enabled only processors has been deprecated. Intel oneAPI Math Kernel Library 2025.0 will require Intel(R) Advanced Vector Extensions (Intel(R) AVX) instructions.\n",
      "Intel MKL WARNING: Support of Intel(R) Streaming SIMD Extensions 4.2 (Intel(R) SSE4.2) enabled only processors has been deprecated. Intel oneAPI Math Kernel Library 2025.0 will require Intel(R) Advanced Vector Extensions (Intel(R) AVX) instructions.\n"
     ]
    }
   ],
   "source": [
    "import pandas as pd\n",
    "import numpy as np\n",
    "import seaborn as sns\n",
    "import matplotlib.pyplot as plt\n",
    "\n",
    "import random\n",
    "import networkx as nx   \n",
    "\n",
    "sns.set(style=\"whitegrid\")\n",
    "\n",
    "import sys\n",
    "sys.path.append('../Final_model')\n",
    "from model import myModel"
   ]
  },
  {
   "cell_type": "markdown",
   "id": "c3dd096f",
   "metadata": {},
   "source": [
    "## Testing agents re-initialization"
   ]
  },
  {
   "cell_type": "code",
   "execution_count": 2,
   "id": "32d678eb",
   "metadata": {},
   "outputs": [],
   "source": [
    "model = myModel(N = 3, w = 1 , h = 1)"
   ]
  },
  {
   "cell_type": "code",
   "execution_count": 3,
   "id": "8a7da09e",
   "metadata": {},
   "outputs": [
    {
     "data": {
      "text/plain": [
       "[0.23903314502497408, 0.14050504964743626, 0.5919785460246787]"
      ]
     },
     "execution_count": 3,
     "metadata": {},
     "output_type": "execute_result"
    }
   ],
   "source": [
    "model.agents_initial_opinions"
   ]
  },
  {
   "cell_type": "code",
   "execution_count": 4,
   "id": "763f61e6",
   "metadata": {
    "scrolled": true
   },
   "outputs": [
    {
     "data": {
      "text/plain": [
       "[1, 1, 1]"
      ]
     },
     "execution_count": 4,
     "metadata": {},
     "output_type": "execute_result"
    }
   ],
   "source": [
    "model.agents_initial_decisions"
   ]
  },
  {
   "cell_type": "code",
   "execution_count": 5,
   "id": "017b9a51",
   "metadata": {},
   "outputs": [],
   "source": [
    "model.step()"
   ]
  },
  {
   "cell_type": "code",
   "execution_count": 6,
   "id": "0f13887e",
   "metadata": {},
   "outputs": [],
   "source": [
    "model_data = model.datacollector.get_model_vars_dataframe()\n",
    "agents_data = model.datacollector.get_agent_vars_dataframe()"
   ]
  },
  {
   "cell_type": "code",
   "execution_count": 7,
   "id": "1f1da32e",
   "metadata": {},
   "outputs": [
    {
     "data": {
      "text/html": [
       "<div>\n",
       "<style scoped>\n",
       "    .dataframe tbody tr th:only-of-type {\n",
       "        vertical-align: middle;\n",
       "    }\n",
       "\n",
       "    .dataframe tbody tr th {\n",
       "        vertical-align: top;\n",
       "    }\n",
       "\n",
       "    .dataframe thead th {\n",
       "        text-align: right;\n",
       "    }\n",
       "</style>\n",
       "<table border=\"1\" class=\"dataframe\">\n",
       "  <thead>\n",
       "    <tr style=\"text-align: right;\">\n",
       "      <th></th>\n",
       "      <th></th>\n",
       "      <th>opinion</th>\n",
       "      <th>old_opinion</th>\n",
       "      <th>observed_mobility</th>\n",
       "      <th>online_info</th>\n",
       "      <th>offline_info</th>\n",
       "      <th>combined_info</th>\n",
       "      <th>decision_th</th>\n",
       "      <th>old_decision</th>\n",
       "      <th>decision</th>\n",
       "    </tr>\n",
       "    <tr>\n",
       "      <th>Step</th>\n",
       "      <th>AgentID</th>\n",
       "      <th></th>\n",
       "      <th></th>\n",
       "      <th></th>\n",
       "      <th></th>\n",
       "      <th></th>\n",
       "      <th></th>\n",
       "      <th></th>\n",
       "      <th></th>\n",
       "      <th></th>\n",
       "    </tr>\n",
       "  </thead>\n",
       "  <tbody>\n",
       "    <tr>\n",
       "      <th rowspan=\"3\" valign=\"top\">0</th>\n",
       "      <th>0</th>\n",
       "      <td>0.239033</td>\n",
       "      <td>0.239033</td>\n",
       "      <td>0.0</td>\n",
       "      <td>0.000000</td>\n",
       "      <td>0.0</td>\n",
       "      <td>0.000000</td>\n",
       "      <td>0.978527</td>\n",
       "      <td>1</td>\n",
       "      <td>1</td>\n",
       "    </tr>\n",
       "    <tr>\n",
       "      <th>1</th>\n",
       "      <td>0.140505</td>\n",
       "      <td>0.140505</td>\n",
       "      <td>0.0</td>\n",
       "      <td>0.000000</td>\n",
       "      <td>0.0</td>\n",
       "      <td>0.000000</td>\n",
       "      <td>0.812606</td>\n",
       "      <td>1</td>\n",
       "      <td>1</td>\n",
       "    </tr>\n",
       "    <tr>\n",
       "      <th>2</th>\n",
       "      <td>0.591979</td>\n",
       "      <td>0.591979</td>\n",
       "      <td>0.0</td>\n",
       "      <td>0.000000</td>\n",
       "      <td>0.0</td>\n",
       "      <td>0.000000</td>\n",
       "      <td>0.064806</td>\n",
       "      <td>1</td>\n",
       "      <td>1</td>\n",
       "    </tr>\n",
       "    <tr>\n",
       "      <th rowspan=\"3\" valign=\"top\">1</th>\n",
       "      <th>0</th>\n",
       "      <td>0.620765</td>\n",
       "      <td>0.239033</td>\n",
       "      <td>1.0</td>\n",
       "      <td>0.119517</td>\n",
       "      <td>0.0</td>\n",
       "      <td>0.119517</td>\n",
       "      <td>0.978527</td>\n",
       "      <td>1</td>\n",
       "      <td>1</td>\n",
       "    </tr>\n",
       "    <tr>\n",
       "      <th>1</th>\n",
       "      <td>0.070253</td>\n",
       "      <td>0.140505</td>\n",
       "      <td>1.0</td>\n",
       "      <td>0.070253</td>\n",
       "      <td>0.0</td>\n",
       "      <td>0.070253</td>\n",
       "      <td>0.812606</td>\n",
       "      <td>1</td>\n",
       "      <td>1</td>\n",
       "    </tr>\n",
       "    <tr>\n",
       "      <th>2</th>\n",
       "      <td>0.295989</td>\n",
       "      <td>0.591979</td>\n",
       "      <td>1.0</td>\n",
       "      <td>0.295989</td>\n",
       "      <td>0.0</td>\n",
       "      <td>0.295989</td>\n",
       "      <td>0.064806</td>\n",
       "      <td>1</td>\n",
       "      <td>0</td>\n",
       "    </tr>\n",
       "  </tbody>\n",
       "</table>\n",
       "</div>"
      ],
      "text/plain": [
       "               opinion  old_opinion  observed_mobility  online_info  \\\n",
       "Step AgentID                                                          \n",
       "0    0        0.239033     0.239033                0.0     0.000000   \n",
       "     1        0.140505     0.140505                0.0     0.000000   \n",
       "     2        0.591979     0.591979                0.0     0.000000   \n",
       "1    0        0.620765     0.239033                1.0     0.119517   \n",
       "     1        0.070253     0.140505                1.0     0.070253   \n",
       "     2        0.295989     0.591979                1.0     0.295989   \n",
       "\n",
       "              offline_info  combined_info  decision_th  old_decision  decision  \n",
       "Step AgentID                                                                    \n",
       "0    0                 0.0       0.000000     0.978527             1         1  \n",
       "     1                 0.0       0.000000     0.812606             1         1  \n",
       "     2                 0.0       0.000000     0.064806             1         1  \n",
       "1    0                 0.0       0.119517     0.978527             1         1  \n",
       "     1                 0.0       0.070253     0.812606             1         1  \n",
       "     2                 0.0       0.295989     0.064806             1         0  "
      ]
     },
     "execution_count": 7,
     "metadata": {},
     "output_type": "execute_result"
    }
   ],
   "source": [
    "agents_data"
   ]
  },
  {
   "cell_type": "code",
   "execution_count": 8,
   "id": "2b2946fd",
   "metadata": {},
   "outputs": [],
   "source": [
    "model.reinitialize_agents()"
   ]
  },
  {
   "cell_type": "code",
   "execution_count": 9,
   "id": "1454e24d",
   "metadata": {},
   "outputs": [
    {
     "name": "stdout",
     "output_type": "stream",
     "text": [
      "0.23903314502497408\n",
      "0.14050504964743626\n",
      "0.5919785460246787\n"
     ]
    }
   ],
   "source": [
    "for a in model.online_space.get_all_cell_contents():\n",
    "    print(a.opinion)"
   ]
  },
  {
   "cell_type": "code",
   "execution_count": 10,
   "id": "1e1e9ba6",
   "metadata": {},
   "outputs": [
    {
     "name": "stdout",
     "output_type": "stream",
     "text": [
      "1\n",
      "1\n",
      "1\n"
     ]
    }
   ],
   "source": [
    "for a in model.online_space.get_all_cell_contents():\n",
    "    print(a.decision)"
   ]
  },
  {
   "cell_type": "code",
   "execution_count": 11,
   "id": "0d26eb83",
   "metadata": {},
   "outputs": [],
   "source": [
    "model.step()"
   ]
  },
  {
   "cell_type": "code",
   "execution_count": 12,
   "id": "14437e8d",
   "metadata": {},
   "outputs": [],
   "source": [
    "agents_data = model.datacollector.get_agent_vars_dataframe()"
   ]
  },
  {
   "cell_type": "code",
   "execution_count": 13,
   "id": "6852adbe",
   "metadata": {
    "scrolled": true
   },
   "outputs": [
    {
     "data": {
      "text/html": [
       "<div>\n",
       "<style scoped>\n",
       "    .dataframe tbody tr th:only-of-type {\n",
       "        vertical-align: middle;\n",
       "    }\n",
       "\n",
       "    .dataframe tbody tr th {\n",
       "        vertical-align: top;\n",
       "    }\n",
       "\n",
       "    .dataframe thead th {\n",
       "        text-align: right;\n",
       "    }\n",
       "</style>\n",
       "<table border=\"1\" class=\"dataframe\">\n",
       "  <thead>\n",
       "    <tr style=\"text-align: right;\">\n",
       "      <th></th>\n",
       "      <th></th>\n",
       "      <th>opinion</th>\n",
       "      <th>old_opinion</th>\n",
       "      <th>observed_mobility</th>\n",
       "      <th>online_info</th>\n",
       "      <th>offline_info</th>\n",
       "      <th>combined_info</th>\n",
       "      <th>decision_th</th>\n",
       "      <th>old_decision</th>\n",
       "      <th>decision</th>\n",
       "    </tr>\n",
       "    <tr>\n",
       "      <th>Step</th>\n",
       "      <th>AgentID</th>\n",
       "      <th></th>\n",
       "      <th></th>\n",
       "      <th></th>\n",
       "      <th></th>\n",
       "      <th></th>\n",
       "      <th></th>\n",
       "      <th></th>\n",
       "      <th></th>\n",
       "      <th></th>\n",
       "    </tr>\n",
       "  </thead>\n",
       "  <tbody>\n",
       "    <tr>\n",
       "      <th rowspan=\"3\" valign=\"top\">2</th>\n",
       "      <th>0</th>\n",
       "      <td>0.119517</td>\n",
       "      <td>0.239033</td>\n",
       "      <td>1.0</td>\n",
       "      <td>0.119517</td>\n",
       "      <td>0.0</td>\n",
       "      <td>0.119517</td>\n",
       "      <td>0.978527</td>\n",
       "      <td>1</td>\n",
       "      <td>1</td>\n",
       "    </tr>\n",
       "    <tr>\n",
       "      <th>1</th>\n",
       "      <td>0.070253</td>\n",
       "      <td>0.140505</td>\n",
       "      <td>1.0</td>\n",
       "      <td>0.070253</td>\n",
       "      <td>0.0</td>\n",
       "      <td>0.070253</td>\n",
       "      <td>0.812606</td>\n",
       "      <td>1</td>\n",
       "      <td>1</td>\n",
       "    </tr>\n",
       "    <tr>\n",
       "      <th>2</th>\n",
       "      <td>0.295989</td>\n",
       "      <td>0.591979</td>\n",
       "      <td>1.0</td>\n",
       "      <td>0.295989</td>\n",
       "      <td>0.0</td>\n",
       "      <td>0.295989</td>\n",
       "      <td>0.064806</td>\n",
       "      <td>1</td>\n",
       "      <td>0</td>\n",
       "    </tr>\n",
       "  </tbody>\n",
       "</table>\n",
       "</div>"
      ],
      "text/plain": [
       "               opinion  old_opinion  observed_mobility  online_info  \\\n",
       "Step AgentID                                                          \n",
       "2    0        0.119517     0.239033                1.0     0.119517   \n",
       "     1        0.070253     0.140505                1.0     0.070253   \n",
       "     2        0.295989     0.591979                1.0     0.295989   \n",
       "\n",
       "              offline_info  combined_info  decision_th  old_decision  decision  \n",
       "Step AgentID                                                                    \n",
       "2    0                 0.0       0.119517     0.978527             1         1  \n",
       "     1                 0.0       0.070253     0.812606             1         1  \n",
       "     2                 0.0       0.295989     0.064806             1         0  "
      ]
     },
     "execution_count": 13,
     "metadata": {},
     "output_type": "execute_result"
    }
   ],
   "source": [
    "agents_data"
   ]
  },
  {
   "cell_type": "code",
   "execution_count": 19,
   "id": "9804eaf6",
   "metadata": {
    "scrolled": true
   },
   "outputs": [
    {
     "name": "stdout",
     "output_type": "stream",
     "text": [
      "0.9542200602570897\n",
      "0.774401522367999\n",
      "0.8525652291047507\n",
      "0.9828218219867102\n"
     ]
    }
   ],
   "source": [
    "for a in model.online_space.get_all_cell_contents():\n",
    "    print(a.opinion)"
   ]
  },
  {
   "cell_type": "code",
   "execution_count": 52,
   "id": "94892a2c",
   "metadata": {},
   "outputs": [],
   "source": [
    "agents_data = model.datacollector.get_agent_vars_dataframe()"
   ]
  },
  {
   "cell_type": "markdown",
   "id": "55f59e04",
   "metadata": {},
   "source": [
    "## Testing the overall logic"
   ]
  },
  {
   "cell_type": "markdown",
   "id": "d5b53a77",
   "metadata": {},
   "source": [
    "Changes made so far:\n",
    "- the decisions are initialzed based on the initial opinions \n",
    "- the last step in the deicion making process is update the opinion as : Oi = Ii\n",
    "- no point of using beta .. so the model only one paramter for weighting the influence of the offline and online info (alpha)\n"
   ]
  },
  {
   "cell_type": "code",
   "execution_count": 2,
   "id": "04343d69",
   "metadata": {
    "scrolled": true
   },
   "outputs": [],
   "source": [
    "model = myModel(N = 3, w = 1 , h = 1)"
   ]
  },
  {
   "cell_type": "code",
   "execution_count": 3,
   "id": "bfba8c6e",
   "metadata": {},
   "outputs": [],
   "source": [
    "num_steps = 3\n",
    "for _ in range(num_steps):\n",
    "    model.step()"
   ]
  },
  {
   "cell_type": "code",
   "execution_count": 4,
   "id": "f15b7d27",
   "metadata": {},
   "outputs": [],
   "source": [
    "model_data = model.datacollector.get_model_vars_dataframe()\n",
    "agents_data = model.datacollector.get_agent_vars_dataframe()"
   ]
  },
  {
   "cell_type": "code",
   "execution_count": 5,
   "id": "a6b1e094",
   "metadata": {},
   "outputs": [
    {
     "data": {
      "text/html": [
       "<div>\n",
       "<style scoped>\n",
       "    .dataframe tbody tr th:only-of-type {\n",
       "        vertical-align: middle;\n",
       "    }\n",
       "\n",
       "    .dataframe tbody tr th {\n",
       "        vertical-align: top;\n",
       "    }\n",
       "\n",
       "    .dataframe thead th {\n",
       "        text-align: right;\n",
       "    }\n",
       "</style>\n",
       "<table border=\"1\" class=\"dataframe\">\n",
       "  <thead>\n",
       "    <tr style=\"text-align: right;\">\n",
       "      <th></th>\n",
       "      <th>op_avg</th>\n",
       "      <th>combined_info_avg</th>\n",
       "      <th>mobility_rate</th>\n",
       "    </tr>\n",
       "  </thead>\n",
       "  <tbody>\n",
       "    <tr>\n",
       "      <th>0</th>\n",
       "      <td>0.543698</td>\n",
       "      <td>0.000000</td>\n",
       "      <td>0.333333</td>\n",
       "    </tr>\n",
       "    <tr>\n",
       "      <th>1</th>\n",
       "      <td>0.639383</td>\n",
       "      <td>0.661659</td>\n",
       "      <td>0.000000</td>\n",
       "    </tr>\n",
       "    <tr>\n",
       "      <th>2</th>\n",
       "      <td>0.643464</td>\n",
       "      <td>0.747918</td>\n",
       "      <td>0.000000</td>\n",
       "    </tr>\n",
       "    <tr>\n",
       "      <th>3</th>\n",
       "      <td>0.771792</td>\n",
       "      <td>0.771792</td>\n",
       "      <td>0.000000</td>\n",
       "    </tr>\n",
       "  </tbody>\n",
       "</table>\n",
       "</div>"
      ],
      "text/plain": [
       "     op_avg  combined_info_avg  mobility_rate\n",
       "0  0.543698           0.000000       0.333333\n",
       "1  0.639383           0.661659       0.000000\n",
       "2  0.643464           0.747918       0.000000\n",
       "3  0.771792           0.771792       0.000000"
      ]
     },
     "execution_count": 5,
     "metadata": {},
     "output_type": "execute_result"
    }
   ],
   "source": [
    "model_data"
   ]
  },
  {
   "cell_type": "code",
   "execution_count": 6,
   "id": "40b861ab",
   "metadata": {},
   "outputs": [
    {
     "data": {
      "text/html": [
       "<div>\n",
       "<style scoped>\n",
       "    .dataframe tbody tr th:only-of-type {\n",
       "        vertical-align: middle;\n",
       "    }\n",
       "\n",
       "    .dataframe tbody tr th {\n",
       "        vertical-align: top;\n",
       "    }\n",
       "\n",
       "    .dataframe thead th {\n",
       "        text-align: right;\n",
       "    }\n",
       "</style>\n",
       "<table border=\"1\" class=\"dataframe\">\n",
       "  <thead>\n",
       "    <tr style=\"text-align: right;\">\n",
       "      <th></th>\n",
       "      <th></th>\n",
       "      <th>opinion</th>\n",
       "      <th>old_opinion</th>\n",
       "      <th>moving_neighbors</th>\n",
       "      <th>observed_mobility</th>\n",
       "      <th>online_info</th>\n",
       "      <th>offline_info</th>\n",
       "      <th>combined_info</th>\n",
       "      <th>decision_th</th>\n",
       "      <th>old_decision</th>\n",
       "      <th>decision</th>\n",
       "    </tr>\n",
       "    <tr>\n",
       "      <th>Step</th>\n",
       "      <th>AgentID</th>\n",
       "      <th></th>\n",
       "      <th></th>\n",
       "      <th></th>\n",
       "      <th></th>\n",
       "      <th></th>\n",
       "      <th></th>\n",
       "      <th></th>\n",
       "      <th></th>\n",
       "      <th></th>\n",
       "      <th></th>\n",
       "    </tr>\n",
       "  </thead>\n",
       "  <tbody>\n",
       "    <tr>\n",
       "      <th rowspan=\"3\" valign=\"top\">0</th>\n",
       "      <th>0</th>\n",
       "      <td>0.956394</td>\n",
       "      <td>0.956394</td>\n",
       "      <td>0</td>\n",
       "      <td>0.0</td>\n",
       "      <td>0.000000</td>\n",
       "      <td>0.00</td>\n",
       "      <td>0.000000</td>\n",
       "      <td>0.635389</td>\n",
       "      <td>0</td>\n",
       "      <td>0</td>\n",
       "    </tr>\n",
       "    <tr>\n",
       "      <th>1</th>\n",
       "      <td>0.290194</td>\n",
       "      <td>0.290194</td>\n",
       "      <td>0</td>\n",
       "      <td>0.0</td>\n",
       "      <td>0.000000</td>\n",
       "      <td>0.00</td>\n",
       "      <td>0.000000</td>\n",
       "      <td>0.292990</td>\n",
       "      <td>1</td>\n",
       "      <td>1</td>\n",
       "    </tr>\n",
       "    <tr>\n",
       "      <th>2</th>\n",
       "      <td>0.384505</td>\n",
       "      <td>0.384505</td>\n",
       "      <td>0</td>\n",
       "      <td>0.0</td>\n",
       "      <td>0.000000</td>\n",
       "      <td>0.00</td>\n",
       "      <td>0.000000</td>\n",
       "      <td>0.334310</td>\n",
       "      <td>0</td>\n",
       "      <td>0</td>\n",
       "    </tr>\n",
       "    <tr>\n",
       "      <th rowspan=\"3\" valign=\"top\">1</th>\n",
       "      <th>0</th>\n",
       "      <td>0.728197</td>\n",
       "      <td>0.956394</td>\n",
       "      <td>1</td>\n",
       "      <td>0.5</td>\n",
       "      <td>0.478197</td>\n",
       "      <td>0.25</td>\n",
       "      <td>0.728197</td>\n",
       "      <td>0.635389</td>\n",
       "      <td>0</td>\n",
       "      <td>0</td>\n",
       "    </tr>\n",
       "    <tr>\n",
       "      <th>1</th>\n",
       "      <td>0.832616</td>\n",
       "      <td>0.290194</td>\n",
       "      <td>0</td>\n",
       "      <td>0.0</td>\n",
       "      <td>0.332616</td>\n",
       "      <td>0.50</td>\n",
       "      <td>0.832616</td>\n",
       "      <td>0.292990</td>\n",
       "      <td>1</td>\n",
       "      <td>0</td>\n",
       "    </tr>\n",
       "    <tr>\n",
       "      <th>2</th>\n",
       "      <td>0.357336</td>\n",
       "      <td>0.384505</td>\n",
       "      <td>1</td>\n",
       "      <td>0.5</td>\n",
       "      <td>0.174165</td>\n",
       "      <td>0.25</td>\n",
       "      <td>0.424165</td>\n",
       "      <td>0.334310</td>\n",
       "      <td>0</td>\n",
       "      <td>0</td>\n",
       "    </tr>\n",
       "    <tr>\n",
       "      <th rowspan=\"3\" valign=\"top\">2</th>\n",
       "      <th>0</th>\n",
       "      <td>0.704957</td>\n",
       "      <td>0.728197</td>\n",
       "      <td>0</td>\n",
       "      <td>0.0</td>\n",
       "      <td>0.204957</td>\n",
       "      <td>0.50</td>\n",
       "      <td>0.704957</td>\n",
       "      <td>0.635389</td>\n",
       "      <td>0</td>\n",
       "      <td>0</td>\n",
       "    </tr>\n",
       "    <tr>\n",
       "      <th>1</th>\n",
       "      <td>0.860130</td>\n",
       "      <td>0.832616</td>\n",
       "      <td>0</td>\n",
       "      <td>0.0</td>\n",
       "      <td>0.360130</td>\n",
       "      <td>0.50</td>\n",
       "      <td>0.860130</td>\n",
       "      <td>0.292990</td>\n",
       "      <td>0</td>\n",
       "      <td>0</td>\n",
       "    </tr>\n",
       "    <tr>\n",
       "      <th>2</th>\n",
       "      <td>0.365306</td>\n",
       "      <td>0.357336</td>\n",
       "      <td>0</td>\n",
       "      <td>0.0</td>\n",
       "      <td>0.178668</td>\n",
       "      <td>0.50</td>\n",
       "      <td>0.678668</td>\n",
       "      <td>0.334310</td>\n",
       "      <td>0</td>\n",
       "      <td>0</td>\n",
       "    </tr>\n",
       "    <tr>\n",
       "      <th rowspan=\"3\" valign=\"top\">3</th>\n",
       "      <th>0</th>\n",
       "      <td>0.716917</td>\n",
       "      <td>0.704957</td>\n",
       "      <td>0</td>\n",
       "      <td>0.0</td>\n",
       "      <td>0.216917</td>\n",
       "      <td>0.50</td>\n",
       "      <td>0.716917</td>\n",
       "      <td>0.635389</td>\n",
       "      <td>0</td>\n",
       "      <td>0</td>\n",
       "    </tr>\n",
       "    <tr>\n",
       "      <th>1</th>\n",
       "      <td>0.930065</td>\n",
       "      <td>0.860130</td>\n",
       "      <td>0</td>\n",
       "      <td>0.0</td>\n",
       "      <td>0.430065</td>\n",
       "      <td>0.50</td>\n",
       "      <td>0.930065</td>\n",
       "      <td>0.292990</td>\n",
       "      <td>0</td>\n",
       "      <td>0</td>\n",
       "    </tr>\n",
       "    <tr>\n",
       "      <th>2</th>\n",
       "      <td>0.668392</td>\n",
       "      <td>0.365306</td>\n",
       "      <td>0</td>\n",
       "      <td>0.0</td>\n",
       "      <td>0.168392</td>\n",
       "      <td>0.50</td>\n",
       "      <td>0.668392</td>\n",
       "      <td>0.334310</td>\n",
       "      <td>0</td>\n",
       "      <td>0</td>\n",
       "    </tr>\n",
       "  </tbody>\n",
       "</table>\n",
       "</div>"
      ],
      "text/plain": [
       "               opinion  old_opinion  moving_neighbors  observed_mobility  \\\n",
       "Step AgentID                                                               \n",
       "0    0        0.956394     0.956394                 0                0.0   \n",
       "     1        0.290194     0.290194                 0                0.0   \n",
       "     2        0.384505     0.384505                 0                0.0   \n",
       "1    0        0.728197     0.956394                 1                0.5   \n",
       "     1        0.832616     0.290194                 0                0.0   \n",
       "     2        0.357336     0.384505                 1                0.5   \n",
       "2    0        0.704957     0.728197                 0                0.0   \n",
       "     1        0.860130     0.832616                 0                0.0   \n",
       "     2        0.365306     0.357336                 0                0.0   \n",
       "3    0        0.716917     0.704957                 0                0.0   \n",
       "     1        0.930065     0.860130                 0                0.0   \n",
       "     2        0.668392     0.365306                 0                0.0   \n",
       "\n",
       "              online_info  offline_info  combined_info  decision_th  \\\n",
       "Step AgentID                                                          \n",
       "0    0           0.000000          0.00       0.000000     0.635389   \n",
       "     1           0.000000          0.00       0.000000     0.292990   \n",
       "     2           0.000000          0.00       0.000000     0.334310   \n",
       "1    0           0.478197          0.25       0.728197     0.635389   \n",
       "     1           0.332616          0.50       0.832616     0.292990   \n",
       "     2           0.174165          0.25       0.424165     0.334310   \n",
       "2    0           0.204957          0.50       0.704957     0.635389   \n",
       "     1           0.360130          0.50       0.860130     0.292990   \n",
       "     2           0.178668          0.50       0.678668     0.334310   \n",
       "3    0           0.216917          0.50       0.716917     0.635389   \n",
       "     1           0.430065          0.50       0.930065     0.292990   \n",
       "     2           0.168392          0.50       0.668392     0.334310   \n",
       "\n",
       "              old_decision  decision  \n",
       "Step AgentID                          \n",
       "0    0                   0         0  \n",
       "     1                   1         1  \n",
       "     2                   0         0  \n",
       "1    0                   0         0  \n",
       "     1                   1         0  \n",
       "     2                   0         0  \n",
       "2    0                   0         0  \n",
       "     1                   0         0  \n",
       "     2                   0         0  \n",
       "3    0                   0         0  \n",
       "     1                   0         0  \n",
       "     2                   0         0  "
      ]
     },
     "execution_count": 6,
     "metadata": {},
     "output_type": "execute_result"
    }
   ],
   "source": [
    "agents_data"
   ]
  },
  {
   "cell_type": "markdown",
   "id": "bce68914",
   "metadata": {},
   "source": [
    "## Comparing the model behaviour with different last step in decision making:\n",
    "### Comparing different gamma values (different whights in the EMA formula)\n",
    "- Case 1: (gamma = 1) Oi(t+1) = Oi(t)\n",
    "- Case 2: (gamma = 0) Oi(t+1) = Ii(t)\n",
    "- Case 3: EMA formula (gamma has a value betweem 0 and 1): Oi(t+1) = gamma * Oi(t) + (1 - gamma) * Ii(t) "
   ]
  },
  {
   "cell_type": "code",
   "execution_count": 38,
   "id": "0cef35d8",
   "metadata": {},
   "outputs": [],
   "source": [
    "model = myModel(N = 500 , w = 5 , h = 5)\n",
    "num_steps = 100"
   ]
  },
  {
   "cell_type": "markdown",
   "id": "07f55b1e",
   "metadata": {},
   "source": [
    "#### gamma = 1 -> No final opinion update step"
   ]
  },
  {
   "cell_type": "code",
   "execution_count": 39,
   "id": "e62b524a",
   "metadata": {},
   "outputs": [],
   "source": [
    "model.set_gamma(1)\n",
    "\n",
    "for _ in range(num_steps):\n",
    "    model.step()\n",
    "    \n",
    "model_data = model.datacollector.get_model_vars_dataframe()\n",
    "\n",
    "gamma_1_mobility = list(model_data[1:]['mobility_rate'])\n",
    "gamma_1_I = list(model_data[1:]['combined_info_avg']) \n",
    "gamma_1_op = list(model_data[1:]['op_avg']) "
   ]
  },
  {
   "cell_type": "markdown",
   "id": "9b932018",
   "metadata": {},
   "source": [
    "#### gamma = 0 -> Oi(t+1) = Ii(t)"
   ]
  },
  {
   "cell_type": "code",
   "execution_count": 40,
   "id": "593d01a2",
   "metadata": {},
   "outputs": [],
   "source": [
    "model.reinitialize_agents()\n",
    "model.set_gamma(0)\n",
    "\n",
    "for _ in range(num_steps):\n",
    "    model.step()\n",
    "    \n",
    "model_data = model.datacollector.get_model_vars_dataframe()\n",
    "\n",
    "gamma_0_mobility = list(model_data['mobility_rate'])\n",
    "gamma_0_I = list(model_data['combined_info_avg']) \n",
    "gamma_0_op = list(model_data['op_avg']) "
   ]
  },
  {
   "cell_type": "markdown",
   "id": "2d19e685",
   "metadata": {},
   "source": [
    "#### Oi(t+1) = gamma * Oi(t) + (1 - gamma) * Ii(t)\n",
    "#### gamma = 0.2"
   ]
  },
  {
   "cell_type": "code",
   "execution_count": 41,
   "id": "ab054dbc",
   "metadata": {},
   "outputs": [],
   "source": [
    "model.reinitialize_agents()\n",
    "model.set_gamma(0.2)\n",
    "\n",
    "for _ in range(num_steps):\n",
    "    model.step()\n",
    "    \n",
    "model_data = model.datacollector.get_model_vars_dataframe()\n",
    "\n",
    "gamma_02_mobility = list(model_data['mobility_rate'])\n",
    "gamma_02_I = list(model_data['combined_info_avg']) \n",
    "gamma_02_op = list(model_data['op_avg']) "
   ]
  },
  {
   "cell_type": "markdown",
   "id": "5382457c",
   "metadata": {},
   "source": [
    "#### gamma = 0.4"
   ]
  },
  {
   "cell_type": "code",
   "execution_count": 42,
   "id": "3fb1c911",
   "metadata": {},
   "outputs": [],
   "source": [
    "model.reinitialize_agents()\n",
    "model.set_gamma(0.4)\n",
    "\n",
    "for _ in range(num_steps):\n",
    "    model.step()\n",
    "    \n",
    "model_data = model.datacollector.get_model_vars_dataframe()\n",
    "\n",
    "gamma_04_mobility = list(model_data['mobility_rate'])\n",
    "gamma_04_I = list(model_data['combined_info_avg']) \n",
    "gamma_04_op = list(model_data['op_avg']) "
   ]
  },
  {
   "cell_type": "markdown",
   "id": "bd4a26d6",
   "metadata": {},
   "source": [
    "#### gamma = 0.5"
   ]
  },
  {
   "cell_type": "code",
   "execution_count": 43,
   "id": "0eaf429a",
   "metadata": {},
   "outputs": [],
   "source": [
    "model.reinitialize_agents()\n",
    "model.set_gamma(0.5)\n",
    "\n",
    "for _ in range(num_steps):\n",
    "    model.step()\n",
    "    \n",
    "model_data = model.datacollector.get_model_vars_dataframe()\n",
    "\n",
    "gamma_05_mobility = list(model_data['mobility_rate'])\n",
    "gamma_05_I = list(model_data['combined_info_avg']) \n",
    "gamma_05_op = list(model_data['op_avg']) "
   ]
  },
  {
   "cell_type": "markdown",
   "id": "ba42316b",
   "metadata": {},
   "source": [
    "#### gamma = 0.6"
   ]
  },
  {
   "cell_type": "code",
   "execution_count": 44,
   "id": "2dd29283",
   "metadata": {},
   "outputs": [],
   "source": [
    "model.reinitialize_agents()\n",
    "model.set_gamma(0.6)\n",
    "\n",
    "for _ in range(num_steps):\n",
    "    model.step()\n",
    "    \n",
    "model_data = model.datacollector.get_model_vars_dataframe()\n",
    "\n",
    "gamma_06_mobility = list(model_data['mobility_rate'])\n",
    "gamma_06_I = list(model_data['combined_info_avg']) \n",
    "gamma_06_op = list(model_data['op_avg']) "
   ]
  },
  {
   "cell_type": "markdown",
   "id": "1a8da9ca",
   "metadata": {},
   "source": [
    "#### gamma = 0.8"
   ]
  },
  {
   "cell_type": "code",
   "execution_count": 45,
   "id": "4c9463b5",
   "metadata": {},
   "outputs": [],
   "source": [
    "model.reinitialize_agents()\n",
    "model.set_gamma(0.8)\n",
    "\n",
    "for _ in range(num_steps):\n",
    "    model.step()\n",
    "    \n",
    "model_data = model.datacollector.get_model_vars_dataframe()\n",
    "\n",
    "gamma_08_mobility = list(model_data['mobility_rate'])\n",
    "gamma_08_I = list(model_data['combined_info_avg']) \n",
    "gamma_08_op = list(model_data['op_avg']) "
   ]
  },
  {
   "cell_type": "markdown",
   "id": "d3f08576",
   "metadata": {},
   "source": [
    "### Plot results"
   ]
  },
  {
   "cell_type": "code",
   "execution_count": 50,
   "id": "da9db0cb",
   "metadata": {
    "scrolled": false
   },
   "outputs": [
    {
     "data": {
      "image/png": "[encoded data removed]",
      "text/plain": [
       "<Figure size 500x300 with 1 Axes>"
      ]
     },
     "metadata": {},
     "output_type": "display_data"
    }
   ],
   "source": [
    "plt.figure(figsize=(5,  3))\n",
    "for pos in ['right', 'top', 'bottom', 'left']: \n",
    "    plt.gca().spines[pos].set_visible(False) \n",
    "\n",
    "x_values = list(range(num_steps))\n",
    "\n",
    "sns.lineplot(x = x_values , y = gamma_0_mobility , label = \"0\") \n",
    "sns.lineplot(x = x_values , y = gamma_02_mobility , label = \"0.2\") \n",
    "sns.lineplot(x = x_values , y = gamma_04_mobility , label = \"0.4\") \n",
    "sns.lineplot(x = x_values , y = gamma_05_mobility , label = \"0.5\") \n",
    "sns.lineplot(x = x_values , y = gamma_06_mobility , label = \"0.6\") \n",
    "sns.lineplot(x = x_values , y = gamma_08_mobility , label = \"0.8\") \n",
    "sns.lineplot(x = x_values , y = gamma_1_mobility , label = \"1\") \n",
    "\n",
    "\n",
    "plt.ylim(0,1)\n",
    "plt.xlabel(\"Time step\")\n",
    "plt.ylabel(\"Mobility rate\")\n",
    "plt.legend(title = \"gamma\", bbox_to_anchor=(1, 1), ncol=1)\n",
    "\n",
    "plt.show()"
   ]
  },
  {
   "cell_type": "code",
   "execution_count": 47,
   "id": "e65c9236",
   "metadata": {
    "scrolled": true
   },
   "outputs": [
    {
     "data": {
      "image/png": "[encoded data removed]",
      "text/plain": [
       "<Figure size 500x300 with 1 Axes>"
      ]
     },
     "metadata": {},
     "output_type": "display_data"
    }
   ],
   "source": [
    "plt.figure(figsize=(5,  3))\n",
    "for pos in ['right', 'top', 'bottom', 'left']: \n",
    "    plt.gca().spines[pos].set_visible(False) \n",
    "\n",
    "x_values = list(range(num_steps))\n",
    "\n",
    "sns.lineplot(x = x_values , y = gamma_0_I , label = \"0\") \n",
    "sns.lineplot(x = x_values , y = gamma_02_I , label = \"0.2\") \n",
    "sns.lineplot(x = x_values , y = gamma_04_I , label = \"0.4\") \n",
    "sns.lineplot(x = x_values , y = gamma_05_I , label = \"0.5\") \n",
    "sns.lineplot(x = x_values , y = gamma_06_I , label = \"0.6\") \n",
    "sns.lineplot(x = x_values , y = gamma_08_I , label = \"0.8\") \n",
    "sns.lineplot(x = x_values , y = gamma_1_I , label = \"1\") \n",
    "\n",
    "\n",
    "plt.ylim(0,1)\n",
    "plt.xlabel(\"Time step\")\n",
    "plt.ylabel(\"Avg I\")\n",
    "plt.legend(title = \"gamma\", bbox_to_anchor=(1, 1), ncol=1)\n",
    "\n",
    "plt.show()"
   ]
  },
  {
   "cell_type": "code",
   "execution_count": 48,
   "id": "d7ecf206",
   "metadata": {
    "scrolled": true
   },
   "outputs": [
    {
     "data": {
      "image/png": "[encoded data removed]",
      "text/plain": [
       "<Figure size 500x300 with 1 Axes>"
      ]
     },
     "metadata": {},
     "output_type": "display_data"
    }
   ],
   "source": [
    "plt.figure(figsize=(5,  3))\n",
    "for pos in ['right', 'top', 'bottom', 'left']: \n",
    "    plt.gca().spines[pos].set_visible(False) \n",
    "\n",
    "x_values = list(range(num_steps))\n",
    "\n",
    "sns.lineplot(x = x_values , y = gamma_0_op , label = \"0\") \n",
    "sns.lineplot(x = x_values , y = gamma_02_op , label = \"0.2\") \n",
    "sns.lineplot(x = x_values , y = gamma_04_op , label = \"0.4\") \n",
    "sns.lineplot(x = x_values , y = gamma_05_op , label = \"0.5\") \n",
    "sns.lineplot(x = x_values , y = gamma_06_op , label = \"0.6\") \n",
    "sns.lineplot(x = x_values , y = gamma_08_op , label = \"0.8\") \n",
    "sns.lineplot(x = x_values , y = gamma_1_op , label = \"1\") \n",
    "\n",
    "plt.ylim(0,1)\n",
    "plt.xlabel(\"Time step\")\n",
    "plt.ylabel(\"Avg op\")\n",
    "plt.legend(title = \"gamma\", bbox_to_anchor=(1, 1), ncol=1)\n",
    "\n",
    "plt.show()"
   ]
  },
  {
   "cell_type": "code",
   "execution_count": null,
   "id": "02efb453",
   "metadata": {},
   "outputs": [],
   "source": []
  },
  {
   "cell_type": "code",
   "execution_count": null,
   "id": "cd9e166a",
   "metadata": {},
   "outputs": [],
   "source": []
  },
  {
   "cell_type": "code",
   "execution_count": null,
   "id": "503b8048",
   "metadata": {},
   "outputs": [],
   "source": []
  },
  {
   "cell_type": "code",
   "execution_count": null,
   "id": "313899fb",
   "metadata": {},
   "outputs": [],
   "source": []
  },
  {
   "cell_type": "code",
   "execution_count": 10,
   "id": "3eb4604b",
   "metadata": {},
   "outputs": [],
   "source": [
    "model = myModel(N = 3, w = 1 , h = 1)"
   ]
  },
  {
   "cell_type": "code",
   "execution_count": 11,
   "id": "6e19204d",
   "metadata": {},
   "outputs": [
    {
     "data": {
      "text/plain": [
       "[0.5033423912408015, 0.9953576837280909, 0.7882272836224077]"
      ]
     },
     "execution_count": 11,
     "metadata": {},
     "output_type": "execute_result"
    }
   ],
   "source": [
    "model.agents_initial_opinions"
   ]
  },
  {
   "cell_type": "code",
   "execution_count": 12,
   "id": "3b456c13",
   "metadata": {
    "scrolled": true
   },
   "outputs": [
    {
     "data": {
      "text/plain": [
       "[0, 1, 1]"
      ]
     },
     "execution_count": 12,
     "metadata": {},
     "output_type": "execute_result"
    }
   ],
   "source": [
    "model.agents_initial_decisions"
   ]
  },
  {
   "cell_type": "code",
   "execution_count": 13,
   "id": "24e3a320",
   "metadata": {},
   "outputs": [],
   "source": [
    "model.step()"
   ]
  },
  {
   "cell_type": "code",
   "execution_count": 14,
   "id": "e21cf274",
   "metadata": {},
   "outputs": [],
   "source": [
    "model_data = model.datacollector.get_model_vars_dataframe()\n",
    "agents_data = model.datacollector.get_agent_vars_dataframe()"
   ]
  },
  {
   "cell_type": "code",
   "execution_count": 15,
   "id": "958f8a12",
   "metadata": {},
   "outputs": [
    {
     "data": {
      "text/html": [
       "<div>\n",
       "<style scoped>\n",
       "    .dataframe tbody tr th:only-of-type {\n",
       "        vertical-align: middle;\n",
       "    }\n",
       "\n",
       "    .dataframe tbody tr th {\n",
       "        vertical-align: top;\n",
       "    }\n",
       "\n",
       "    .dataframe thead th {\n",
       "        text-align: right;\n",
       "    }\n",
       "</style>\n",
       "<table border=\"1\" class=\"dataframe\">\n",
       "  <thead>\n",
       "    <tr style=\"text-align: right;\">\n",
       "      <th></th>\n",
       "      <th></th>\n",
       "      <th>opinion</th>\n",
       "      <th>old_opinion</th>\n",
       "      <th>observed_mobility</th>\n",
       "      <th>online_info</th>\n",
       "      <th>offline_info</th>\n",
       "      <th>combined_info</th>\n",
       "      <th>decision_th</th>\n",
       "      <th>old_decision</th>\n",
       "      <th>decision</th>\n",
       "    </tr>\n",
       "    <tr>\n",
       "      <th>Step</th>\n",
       "      <th>AgentID</th>\n",
       "      <th></th>\n",
       "      <th></th>\n",
       "      <th></th>\n",
       "      <th></th>\n",
       "      <th></th>\n",
       "      <th></th>\n",
       "      <th></th>\n",
       "      <th></th>\n",
       "      <th></th>\n",
       "    </tr>\n",
       "  </thead>\n",
       "  <tbody>\n",
       "    <tr>\n",
       "      <th rowspan=\"3\" valign=\"top\">0</th>\n",
       "      <th>0</th>\n",
       "      <td>0.503342</td>\n",
       "      <td>0.503342</td>\n",
       "      <td>0.0</td>\n",
       "      <td>0.000000</td>\n",
       "      <td>0.00</td>\n",
       "      <td>0.000000</td>\n",
       "      <td>0.694802</td>\n",
       "      <td>0</td>\n",
       "      <td>0</td>\n",
       "    </tr>\n",
       "    <tr>\n",
       "      <th>1</th>\n",
       "      <td>0.995358</td>\n",
       "      <td>0.995358</td>\n",
       "      <td>0.0</td>\n",
       "      <td>0.000000</td>\n",
       "      <td>0.00</td>\n",
       "      <td>0.000000</td>\n",
       "      <td>0.221797</td>\n",
       "      <td>1</td>\n",
       "      <td>1</td>\n",
       "    </tr>\n",
       "    <tr>\n",
       "      <th>2</th>\n",
       "      <td>0.788227</td>\n",
       "      <td>0.788227</td>\n",
       "      <td>0.0</td>\n",
       "      <td>0.000000</td>\n",
       "      <td>0.00</td>\n",
       "      <td>0.000000</td>\n",
       "      <td>0.047582</td>\n",
       "      <td>1</td>\n",
       "      <td>1</td>\n",
       "    </tr>\n",
       "    <tr>\n",
       "      <th rowspan=\"3\" valign=\"top\">1</th>\n",
       "      <th>0</th>\n",
       "      <td>0.344274</td>\n",
       "      <td>0.503342</td>\n",
       "      <td>1.0</td>\n",
       "      <td>0.166558</td>\n",
       "      <td>0.00</td>\n",
       "      <td>0.166558</td>\n",
       "      <td>0.694802</td>\n",
       "      <td>0</td>\n",
       "      <td>1</td>\n",
       "    </tr>\n",
       "    <tr>\n",
       "      <th>1</th>\n",
       "      <td>0.995358</td>\n",
       "      <td>0.995358</td>\n",
       "      <td>0.5</td>\n",
       "      <td>0.497679</td>\n",
       "      <td>0.25</td>\n",
       "      <td>0.747679</td>\n",
       "      <td>0.221797</td>\n",
       "      <td>1</td>\n",
       "      <td>0</td>\n",
       "    </tr>\n",
       "    <tr>\n",
       "      <th>2</th>\n",
       "      <td>0.795413</td>\n",
       "      <td>0.788227</td>\n",
       "      <td>0.5</td>\n",
       "      <td>0.397707</td>\n",
       "      <td>0.25</td>\n",
       "      <td>0.647707</td>\n",
       "      <td>0.047582</td>\n",
       "      <td>1</td>\n",
       "      <td>0</td>\n",
       "    </tr>\n",
       "  </tbody>\n",
       "</table>\n",
       "</div>"
      ],
      "text/plain": [
       "               opinion  old_opinion  observed_mobility  online_info  \\\n",
       "Step AgentID                                                          \n",
       "0    0        0.503342     0.503342                0.0     0.000000   \n",
       "     1        0.995358     0.995358                0.0     0.000000   \n",
       "     2        0.788227     0.788227                0.0     0.000000   \n",
       "1    0        0.344274     0.503342                1.0     0.166558   \n",
       "     1        0.995358     0.995358                0.5     0.497679   \n",
       "     2        0.795413     0.788227                0.5     0.397707   \n",
       "\n",
       "              offline_info  combined_info  decision_th  old_decision  decision  \n",
       "Step AgentID                                                                    \n",
       "0    0                0.00       0.000000     0.694802             0         0  \n",
       "     1                0.00       0.000000     0.221797             1         1  \n",
       "     2                0.00       0.000000     0.047582             1         1  \n",
       "1    0                0.00       0.166558     0.694802             0         1  \n",
       "     1                0.25       0.747679     0.221797             1         0  \n",
       "     2                0.25       0.647707     0.047582             1         0  "
      ]
     },
     "execution_count": 15,
     "metadata": {},
     "output_type": "execute_result"
    }
   ],
   "source": [
    "agents_data"
   ]
  },
  {
   "cell_type": "code",
   "execution_count": 16,
   "id": "0e052406",
   "metadata": {},
   "outputs": [],
   "source": [
    "model.reinitialize_agents()"
   ]
  },
  {
   "cell_type": "code",
   "execution_count": 17,
   "id": "e91b1fce",
   "metadata": {},
   "outputs": [
    {
     "name": "stdout",
     "output_type": "stream",
     "text": [
      "0.5033423912408015\n",
      "0.9953576837280909\n",
      "0.7882272836224077\n"
     ]
    }
   ],
   "source": [
    "for a in model.online_space.get_all_cell_contents():\n",
    "    print(a.opinion)"
   ]
  },
  {
   "cell_type": "code",
   "execution_count": 18,
   "id": "ee7fcce8",
   "metadata": {},
   "outputs": [
    {
     "name": "stdout",
     "output_type": "stream",
     "text": [
      "0\n",
      "1\n",
      "1\n"
     ]
    }
   ],
   "source": [
    "for a in model.online_space.get_all_cell_contents():\n",
    "    print(a.decision)"
   ]
  },
  {
   "cell_type": "code",
   "execution_count": 25,
   "id": "ff7bc57e",
   "metadata": {},
   "outputs": [],
   "source": [
    "model.step(last_stap = 1)"
   ]
  },
  {
   "cell_type": "code",
   "execution_count": 26,
   "id": "947cecda",
   "metadata": {},
   "outputs": [],
   "source": [
    "agents_data = model.datacollector.get_agent_vars_dataframe()"
   ]
  },
  {
   "cell_type": "code",
   "execution_count": 27,
   "id": "f757ff71",
   "metadata": {
    "scrolled": true
   },
   "outputs": [
    {
     "data": {
      "text/html": [
       "<div>\n",
       "<style scoped>\n",
       "    .dataframe tbody tr th:only-of-type {\n",
       "        vertical-align: middle;\n",
       "    }\n",
       "\n",
       "    .dataframe tbody tr th {\n",
       "        vertical-align: top;\n",
       "    }\n",
       "\n",
       "    .dataframe thead th {\n",
       "        text-align: right;\n",
       "    }\n",
       "</style>\n",
       "<table border=\"1\" class=\"dataframe\">\n",
       "  <thead>\n",
       "    <tr style=\"text-align: right;\">\n",
       "      <th></th>\n",
       "      <th></th>\n",
       "      <th>opinion</th>\n",
       "      <th>old_opinion</th>\n",
       "      <th>observed_mobility</th>\n",
       "      <th>online_info</th>\n",
       "      <th>offline_info</th>\n",
       "      <th>combined_info</th>\n",
       "      <th>decision_th</th>\n",
       "      <th>old_decision</th>\n",
       "      <th>decision</th>\n",
       "    </tr>\n",
       "    <tr>\n",
       "      <th>Step</th>\n",
       "      <th>AgentID</th>\n",
       "      <th></th>\n",
       "      <th></th>\n",
       "      <th></th>\n",
       "      <th></th>\n",
       "      <th></th>\n",
       "      <th></th>\n",
       "      <th></th>\n",
       "      <th></th>\n",
       "      <th></th>\n",
       "    </tr>\n",
       "  </thead>\n",
       "  <tbody>\n",
       "    <tr>\n",
       "      <th rowspan=\"3\" valign=\"top\">2</th>\n",
       "      <th>0</th>\n",
       "      <td>0.152286</td>\n",
       "      <td>0.503342</td>\n",
       "      <td>1.0</td>\n",
       "      <td>0.152286</td>\n",
       "      <td>0.00</td>\n",
       "      <td>0.152286</td>\n",
       "      <td>0.694802</td>\n",
       "      <td>0</td>\n",
       "      <td>1</td>\n",
       "    </tr>\n",
       "    <tr>\n",
       "      <th>1</th>\n",
       "      <td>0.582434</td>\n",
       "      <td>0.995358</td>\n",
       "      <td>0.5</td>\n",
       "      <td>0.438381</td>\n",
       "      <td>0.25</td>\n",
       "      <td>0.688381</td>\n",
       "      <td>0.221797</td>\n",
       "      <td>1</td>\n",
       "      <td>0</td>\n",
       "    </tr>\n",
       "    <tr>\n",
       "      <th>2</th>\n",
       "      <td>0.907414</td>\n",
       "      <td>0.788227</td>\n",
       "      <td>0.5</td>\n",
       "      <td>0.477372</td>\n",
       "      <td>0.25</td>\n",
       "      <td>0.727372</td>\n",
       "      <td>0.047582</td>\n",
       "      <td>1</td>\n",
       "      <td>0</td>\n",
       "    </tr>\n",
       "    <tr>\n",
       "      <th rowspan=\"3\" valign=\"top\">3</th>\n",
       "      <th>0</th>\n",
       "      <td>0.382778</td>\n",
       "      <td>0.152286</td>\n",
       "      <td>0.0</td>\n",
       "      <td>0.076143</td>\n",
       "      <td>0.50</td>\n",
       "      <td>0.576143</td>\n",
       "      <td>0.694802</td>\n",
       "      <td>1</td>\n",
       "      <td>1</td>\n",
       "    </tr>\n",
       "    <tr>\n",
       "      <th>1</th>\n",
       "      <td>0.541217</td>\n",
       "      <td>0.582434</td>\n",
       "      <td>0.5</td>\n",
       "      <td>0.291217</td>\n",
       "      <td>0.25</td>\n",
       "      <td>0.541217</td>\n",
       "      <td>0.221797</td>\n",
       "      <td>0</td>\n",
       "      <td>0</td>\n",
       "    </tr>\n",
       "    <tr>\n",
       "      <th>2</th>\n",
       "      <td>0.678370</td>\n",
       "      <td>0.907414</td>\n",
       "      <td>0.5</td>\n",
       "      <td>0.428370</td>\n",
       "      <td>0.25</td>\n",
       "      <td>0.678370</td>\n",
       "      <td>0.047582</td>\n",
       "      <td>0</td>\n",
       "      <td>0</td>\n",
       "    </tr>\n",
       "    <tr>\n",
       "      <th rowspan=\"3\" valign=\"top\">4</th>\n",
       "      <th>0</th>\n",
       "      <td>0.637948</td>\n",
       "      <td>0.382778</td>\n",
       "      <td>0.0</td>\n",
       "      <td>0.137948</td>\n",
       "      <td>0.50</td>\n",
       "      <td>0.637948</td>\n",
       "      <td>0.694802</td>\n",
       "      <td>1</td>\n",
       "      <td>1</td>\n",
       "    </tr>\n",
       "    <tr>\n",
       "      <th>1</th>\n",
       "      <td>0.501874</td>\n",
       "      <td>0.541217</td>\n",
       "      <td>0.5</td>\n",
       "      <td>0.251874</td>\n",
       "      <td>0.25</td>\n",
       "      <td>0.501874</td>\n",
       "      <td>0.221797</td>\n",
       "      <td>0</td>\n",
       "      <td>0</td>\n",
       "    </tr>\n",
       "    <tr>\n",
       "      <th>2</th>\n",
       "      <td>0.589185</td>\n",
       "      <td>0.678370</td>\n",
       "      <td>0.5</td>\n",
       "      <td>0.339185</td>\n",
       "      <td>0.25</td>\n",
       "      <td>0.589185</td>\n",
       "      <td>0.047582</td>\n",
       "      <td>0</td>\n",
       "      <td>0</td>\n",
       "    </tr>\n",
       "  </tbody>\n",
       "</table>\n",
       "</div>"
      ],
      "text/plain": [
       "               opinion  old_opinion  observed_mobility  online_info  \\\n",
       "Step AgentID                                                          \n",
       "2    0        0.152286     0.503342                1.0     0.152286   \n",
       "     1        0.582434     0.995358                0.5     0.438381   \n",
       "     2        0.907414     0.788227                0.5     0.477372   \n",
       "3    0        0.382778     0.152286                0.0     0.076143   \n",
       "     1        0.541217     0.582434                0.5     0.291217   \n",
       "     2        0.678370     0.907414                0.5     0.428370   \n",
       "4    0        0.637948     0.382778                0.0     0.137948   \n",
       "     1        0.501874     0.541217                0.5     0.251874   \n",
       "     2        0.589185     0.678370                0.5     0.339185   \n",
       "\n",
       "              offline_info  combined_info  decision_th  old_decision  decision  \n",
       "Step AgentID                                                                    \n",
       "2    0                0.00       0.152286     0.694802             0         1  \n",
       "     1                0.25       0.688381     0.221797             1         0  \n",
       "     2                0.25       0.727372     0.047582             1         0  \n",
       "3    0                0.50       0.576143     0.694802             1         1  \n",
       "     1                0.25       0.541217     0.221797             0         0  \n",
       "     2                0.25       0.678370     0.047582             0         0  \n",
       "4    0                0.50       0.637948     0.694802             1         1  \n",
       "     1                0.25       0.501874     0.221797             0         0  \n",
       "     2                0.25       0.589185     0.047582             0         0  "
      ]
     },
     "execution_count": 27,
     "metadata": {},
     "output_type": "execute_result"
    }
   ],
   "source": [
    "agents_data"
   ]
  },
  {
   "cell_type": "code",
   "execution_count": 28,
   "id": "9aaefe90",
   "metadata": {},
   "outputs": [],
   "source": [
    "model.reinitialize_agents()"
   ]
  },
  {
   "cell_type": "code",
   "execution_count": 29,
   "id": "41c60efd",
   "metadata": {},
   "outputs": [
    {
     "name": "stdout",
     "output_type": "stream",
     "text": [
      "0.5033423912408015\n",
      "0.9953576837280909\n",
      "0.7882272836224077\n"
     ]
    }
   ],
   "source": [
    "for a in model.online_space.get_all_cell_contents():\n",
    "    print(a.opinion)"
   ]
  },
  {
   "cell_type": "code",
   "execution_count": 30,
   "id": "cb86fb57",
   "metadata": {},
   "outputs": [
    {
     "name": "stdout",
     "output_type": "stream",
     "text": [
      "0\n",
      "1\n",
      "1\n"
     ]
    }
   ],
   "source": [
    "for a in model.online_space.get_all_cell_contents():\n",
    "    print(a.decision)"
   ]
  },
  {
   "cell_type": "code",
   "execution_count": 35,
   "id": "a3998069",
   "metadata": {},
   "outputs": [],
   "source": [
    "model.step(last_stap = 2)"
   ]
  },
  {
   "cell_type": "code",
   "execution_count": 36,
   "id": "62bb656f",
   "metadata": {},
   "outputs": [],
   "source": [
    "agents_data = model.datacollector.get_agent_vars_dataframe()"
   ]
  },
  {
   "cell_type": "code",
   "execution_count": 37,
   "id": "c9a708ad",
   "metadata": {
    "scrolled": false
   },
   "outputs": [
    {
     "data": {
      "text/html": [
       "<div>\n",
       "<style scoped>\n",
       "    .dataframe tbody tr th:only-of-type {\n",
       "        vertical-align: middle;\n",
       "    }\n",
       "\n",
       "    .dataframe tbody tr th {\n",
       "        vertical-align: top;\n",
       "    }\n",
       "\n",
       "    .dataframe thead th {\n",
       "        text-align: right;\n",
       "    }\n",
       "</style>\n",
       "<table border=\"1\" class=\"dataframe\">\n",
       "  <thead>\n",
       "    <tr style=\"text-align: right;\">\n",
       "      <th></th>\n",
       "      <th></th>\n",
       "      <th>opinion</th>\n",
       "      <th>old_opinion</th>\n",
       "      <th>observed_mobility</th>\n",
       "      <th>online_info</th>\n",
       "      <th>offline_info</th>\n",
       "      <th>combined_info</th>\n",
       "      <th>decision_th</th>\n",
       "      <th>old_decision</th>\n",
       "      <th>decision</th>\n",
       "    </tr>\n",
       "    <tr>\n",
       "      <th>Step</th>\n",
       "      <th>AgentID</th>\n",
       "      <th></th>\n",
       "      <th></th>\n",
       "      <th></th>\n",
       "      <th></th>\n",
       "      <th></th>\n",
       "      <th></th>\n",
       "      <th></th>\n",
       "      <th></th>\n",
       "      <th></th>\n",
       "    </tr>\n",
       "  </thead>\n",
       "  <tbody>\n",
       "    <tr>\n",
       "      <th rowspan=\"3\" valign=\"top\">5</th>\n",
       "      <th>0</th>\n",
       "      <td>0.310010</td>\n",
       "      <td>0.503342</td>\n",
       "      <td>1.0</td>\n",
       "      <td>0.251671</td>\n",
       "      <td>0.00</td>\n",
       "      <td>0.251671</td>\n",
       "      <td>0.694802</td>\n",
       "      <td>0</td>\n",
       "      <td>1</td>\n",
       "    </tr>\n",
       "    <tr>\n",
       "      <th>1</th>\n",
       "      <td>0.871518</td>\n",
       "      <td>0.995358</td>\n",
       "      <td>0.5</td>\n",
       "      <td>0.497679</td>\n",
       "      <td>0.25</td>\n",
       "      <td>0.747679</td>\n",
       "      <td>0.221797</td>\n",
       "      <td>1</td>\n",
       "      <td>0</td>\n",
       "    </tr>\n",
       "    <tr>\n",
       "      <th>2</th>\n",
       "      <td>0.706255</td>\n",
       "      <td>0.788227</td>\n",
       "      <td>0.5</td>\n",
       "      <td>0.387503</td>\n",
       "      <td>0.25</td>\n",
       "      <td>0.637503</td>\n",
       "      <td>0.047582</td>\n",
       "      <td>1</td>\n",
       "      <td>0</td>\n",
       "    </tr>\n",
       "    <tr>\n",
       "      <th rowspan=\"3\" valign=\"top\">6</th>\n",
       "      <th>0</th>\n",
       "      <td>0.468999</td>\n",
       "      <td>0.310010</td>\n",
       "      <td>0.0</td>\n",
       "      <td>0.145999</td>\n",
       "      <td>0.50</td>\n",
       "      <td>0.645999</td>\n",
       "      <td>0.694802</td>\n",
       "      <td>1</td>\n",
       "      <td>1</td>\n",
       "    </tr>\n",
       "    <tr>\n",
       "      <th>1</th>\n",
       "      <td>0.778639</td>\n",
       "      <td>0.871518</td>\n",
       "      <td>0.5</td>\n",
       "      <td>0.435759</td>\n",
       "      <td>0.25</td>\n",
       "      <td>0.685759</td>\n",
       "      <td>0.221797</td>\n",
       "      <td>0</td>\n",
       "      <td>0</td>\n",
       "    </tr>\n",
       "    <tr>\n",
       "      <th>2</th>\n",
       "      <td>0.801127</td>\n",
       "      <td>0.706255</td>\n",
       "      <td>0.5</td>\n",
       "      <td>0.450751</td>\n",
       "      <td>0.25</td>\n",
       "      <td>0.700751</td>\n",
       "      <td>0.047582</td>\n",
       "      <td>0</td>\n",
       "      <td>0</td>\n",
       "    </tr>\n",
       "    <tr>\n",
       "      <th rowspan=\"3\" valign=\"top\">7</th>\n",
       "      <th>0</th>\n",
       "      <td>0.601749</td>\n",
       "      <td>0.468999</td>\n",
       "      <td>0.0</td>\n",
       "      <td>0.234499</td>\n",
       "      <td>0.50</td>\n",
       "      <td>0.734499</td>\n",
       "      <td>0.694802</td>\n",
       "      <td>1</td>\n",
       "      <td>0</td>\n",
       "    </tr>\n",
       "    <tr>\n",
       "      <th>1</th>\n",
       "      <td>0.571574</td>\n",
       "      <td>0.778639</td>\n",
       "      <td>0.5</td>\n",
       "      <td>0.389319</td>\n",
       "      <td>0.25</td>\n",
       "      <td>0.639319</td>\n",
       "      <td>0.221797</td>\n",
       "      <td>0</td>\n",
       "      <td>0</td>\n",
       "    </tr>\n",
       "    <tr>\n",
       "      <th>2</th>\n",
       "      <td>0.725845</td>\n",
       "      <td>0.801127</td>\n",
       "      <td>0.5</td>\n",
       "      <td>0.400563</td>\n",
       "      <td>0.25</td>\n",
       "      <td>0.650563</td>\n",
       "      <td>0.047582</td>\n",
       "      <td>0</td>\n",
       "      <td>0</td>\n",
       "    </tr>\n",
       "  </tbody>\n",
       "</table>\n",
       "</div>"
      ],
      "text/plain": [
       "               opinion  old_opinion  observed_mobility  online_info  \\\n",
       "Step AgentID                                                          \n",
       "5    0        0.310010     0.503342                1.0     0.251671   \n",
       "     1        0.871518     0.995358                0.5     0.497679   \n",
       "     2        0.706255     0.788227                0.5     0.387503   \n",
       "6    0        0.468999     0.310010                0.0     0.145999   \n",
       "     1        0.778639     0.871518                0.5     0.435759   \n",
       "     2        0.801127     0.706255                0.5     0.450751   \n",
       "7    0        0.601749     0.468999                0.0     0.234499   \n",
       "     1        0.571574     0.778639                0.5     0.389319   \n",
       "     2        0.725845     0.801127                0.5     0.400563   \n",
       "\n",
       "              offline_info  combined_info  decision_th  old_decision  decision  \n",
       "Step AgentID                                                                    \n",
       "5    0                0.00       0.251671     0.694802             0         1  \n",
       "     1                0.25       0.747679     0.221797             1         0  \n",
       "     2                0.25       0.637503     0.047582             1         0  \n",
       "6    0                0.50       0.645999     0.694802             1         1  \n",
       "     1                0.25       0.685759     0.221797             0         0  \n",
       "     2                0.25       0.700751     0.047582             0         0  \n",
       "7    0                0.50       0.734499     0.694802             1         0  \n",
       "     1                0.25       0.639319     0.221797             0         0  \n",
       "     2                0.25       0.650563     0.047582             0         0  "
      ]
     },
     "execution_count": 37,
     "metadata": {},
     "output_type": "execute_result"
    }
   ],
   "source": [
    "agents_data"
   ]
  },
  {
   "cell_type": "code",
   "execution_count": null,
   "id": "d1481c86",
   "metadata": {},
   "outputs": [],
   "source": []
  }
 ],
 "metadata": {
  "kernelspec": {
   "display_name": "Python 3 (ipykernel)",
   "language": "python",
   "name": "python3"
  },
  "language_info": {
   "codemirror_mode": {
    "name": "ipython",
    "version": 3
   },
   "file_extension": ".py",
   "mimetype": "text/x-python",
   "name": "python",
   "nbconvert_exporter": "python",
   "pygments_lexer": "ipython3",
   "version": "3.9.17"
  }
 },
 "nbformat": 4,
 "nbformat_minor": 5
}
