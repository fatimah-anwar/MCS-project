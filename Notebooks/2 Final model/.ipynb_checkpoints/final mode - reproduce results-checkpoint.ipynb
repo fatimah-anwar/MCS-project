{
 "cells": [
  {
   "cell_type": "code",
   "execution_count": 1,
   "id": "2bad7345",
   "metadata": {},
   "outputs": [
    {
     "name": "stdout",
     "output_type": "stream",
     "text": [
      "Intel MKL WARNING: Support of Intel(R) Streaming SIMD Extensions 4.2 (Intel(R) SSE4.2) enabled only processors has been deprecated. Intel oneAPI Math Kernel Library 2025.0 will require Intel(R) Advanced Vector Extensions (Intel(R) AVX) instructions.\n",
      "Intel MKL WARNING: Support of Intel(R) Streaming SIMD Extensions 4.2 (Intel(R) SSE4.2) enabled only processors has been deprecated. Intel oneAPI Math Kernel Library 2025.0 will require Intel(R) Advanced Vector Extensions (Intel(R) AVX) instructions.\n"
     ]
    }
   ],
   "source": [
    "import mesa\n",
    "import pandas as pd\n",
    "import numpy as np\n",
    "import seaborn as sns\n",
    "import matplotlib.pyplot as plt\n",
    "import random\n",
    "import networkx as nx   \n",
    "import sys\n",
    "\n",
    "sys.path.append('../../Final_model')\n",
    "from model import myModel\n",
    "\n",
    "sns.set(style=\"whitegrid\")"
   ]
  },
  {
   "cell_type": "markdown",
   "id": "acc00908",
   "metadata": {},
   "source": [
    "### Expeiments setting"
   ]
  },
  {
   "cell_type": "code",
   "execution_count": 2,
   "id": "e74bfac6",
   "metadata": {},
   "outputs": [],
   "source": [
    "population = 500\n",
    "\n",
    "# offline grid dimenssions\n",
    "grid_height = 5\n",
    "grid_width = 5\n",
    "\n",
    "simulation_duration = 100 \n",
    "batch_run_iterations = 100\n",
    "\n",
    "results_folder = \"Final_model_results\"\n"
   ]
  },
  {
   "cell_type": "markdown",
   "id": "ff55b567",
   "metadata": {},
   "source": [
    "## Experiment 1: Impact of 2 sources of information (online communication + offline observations)\n",
    "\n",
    "### 1. Single iteration for each alpha value -> to visualize agents' related data"
   ]
  },
  {
   "cell_type": "code",
   "execution_count": 7,
   "id": "693127b9",
   "metadata": {},
   "outputs": [
    {
     "name": "stderr",
     "output_type": "stream",
     "text": [
      "100%|███████████████████████████████████████████████| 5/5 [01:01<00:00, 12.39s/it]\n"
     ]
    }
   ],
   "source": [
    "params = {\n",
    "    \"N\": population,\n",
    "    \"h\": grid_height,\n",
    "    \"w\": grid_width,\n",
    "#     \"collect_model_data\" : False,\n",
    "#     \"collect_agent_data\" : False,\n",
    "    \"alpha\" : [0 , 0.2 , 0.5 , 0.8 , 1],\n",
    "}\n",
    "\n",
    "results = mesa.batch_run(\n",
    "    myModel,\n",
    "    parameters = params,\n",
    "    \n",
    "    iterations = 1,  # Number of model runs per parameter combination\n",
    "    max_steps = simulation_duration,  # Maximum number of steps per model run\n",
    "\n",
    "#     iterations = 1, # for testing\n",
    "#     max_steps = 10, # for testing\n",
    "  \n",
    "    number_processes = 1,\n",
    "    data_collection_period = 1,\n",
    "    display_progress = True,\n",
    ")"
   ]
  },
  {
   "cell_type": "code",
   "execution_count": 8,
   "id": "1e4f0950",
   "metadata": {},
   "outputs": [],
   "source": [
    "results_df = pd.DataFrame(results)\n"
   ]
  },
  {
   "cell_type": "code",
   "execution_count": 9,
   "id": "2ef97222",
   "metadata": {},
   "outputs": [],
   "source": [
    "results_df.to_csv(results_folder+\"/ex1_batchrun_single_iteration.csv\", index=False)"
   ]
  },
  {
   "cell_type": "code",
   "execution_count": 6,
   "id": "51d7bf67",
   "metadata": {
    "scrolled": true
   },
   "outputs": [
    {
     "data": {
      "text/plain": [
       "(252500, 40)"
      ]
     },
     "execution_count": 6,
     "metadata": {},
     "output_type": "execute_result"
    }
   ],
   "source": [
    "results_df.shape"
   ]
  },
  {
   "cell_type": "markdown",
   "id": "19de31e4",
   "metadata": {},
   "source": [
    "### 2. 100 iterations per alpha value -> to visualize overall model behavior (mobility rate over time)"
   ]
  },
  {
   "cell_type": "code",
   "execution_count": 13,
   "id": "90245c27",
   "metadata": {},
   "outputs": [
    {
     "name": "stderr",
     "output_type": "stream",
     "text": [
      "100%|█████████████████████████████████████████| 500/500 [1:46:17<00:00, 12.75s/it]\n"
     ]
    }
   ],
   "source": [
    "params = {\n",
    "    \"N\": population,\n",
    "    \"h\": grid_height,\n",
    "    \"w\": grid_width,\n",
    "#     \"collect_model_data\" : False,\n",
    "    \"collect_agent_data\" : False,\n",
    "    \"alpha\" : [0 , 0.2 , 0.5 , 0.8 , 1],\n",
    "}\n",
    "\n",
    "results = mesa.batch_run(\n",
    "    myModel,\n",
    "    parameters = params,\n",
    "    \n",
    "    iterations = batch_run_iterations,  # Number of model runs per parameter combination\n",
    "    max_steps = simulation_duration,  # Maximum number of steps per model run\n",
    "\n",
    "#     iterations = 1, # for testing\n",
    "#     max_steps = 10, # for testing\n",
    "  \n",
    "    number_processes = 1,\n",
    "    data_collection_period = 1,\n",
    "    display_progress = True,\n",
    ")"
   ]
  },
  {
   "cell_type": "code",
   "execution_count": 14,
   "id": "bd85dae8",
   "metadata": {},
   "outputs": [],
   "source": [
    "results_df = pd.DataFrame(results)\n"
   ]
  },
  {
   "cell_type": "code",
   "execution_count": 15,
   "id": "d6b5b946",
   "metadata": {},
   "outputs": [],
   "source": [
    "results_df.to_csv(results_folder+\"/ex1_batchrun_100_iteration.csv\", index=False)\n"
   ]
  },
  {
   "cell_type": "code",
   "execution_count": 16,
   "id": "13e8dc37",
   "metadata": {
    "scrolled": false
   },
   "outputs": [
    {
     "data": {
      "text/plain": [
       "(50500, 21)"
      ]
     },
     "execution_count": 16,
     "metadata": {},
     "output_type": "execute_result"
    }
   ],
   "source": [
    "results_df.shape"
   ]
  },
  {
   "cell_type": "markdown",
   "id": "8f96070e",
   "metadata": {},
   "source": [
    "### 3. 50 iterations per alpha value"
   ]
  },
  {
   "cell_type": "code",
   "execution_count": 18,
   "id": "dab2fdbc",
   "metadata": {},
   "outputs": [
    {
     "name": "stderr",
     "output_type": "stream",
     "text": [
      "100%|█████████████████████████████████████████| 550/550 [1:58:59<00:00, 12.98s/it]\n"
     ]
    }
   ],
   "source": [
    "params = {\n",
    "    \"N\": population,\n",
    "    \"h\": grid_height,\n",
    "    \"w\": grid_width,\n",
    "#     \"collect_model_data\" : False,\n",
    "    \"collect_agent_data\" : False,\n",
    "    \"alpha\" : np.arange(0.0, 1.1, 0.1),\n",
    "}\n",
    "\n",
    "results = mesa.batch_run(\n",
    "    myModel,\n",
    "    parameters = params,\n",
    "    \n",
    "    iterations = 50,\n",
    "    max_steps = 100,  \n",
    "\n",
    "    number_processes = 1,\n",
    "    data_collection_period = 1,\n",
    "    display_progress = True,\n",
    ")"
   ]
  },
  {
   "cell_type": "code",
   "execution_count": 19,
   "id": "a14ff6b2",
   "metadata": {},
   "outputs": [],
   "source": [
    "results_df = pd.DataFrame(results)\n"
   ]
  },
  {
   "cell_type": "code",
   "execution_count": 20,
   "id": "13f19335",
   "metadata": {},
   "outputs": [],
   "source": [
    "results_df.to_csv(results_folder+\"/ex1_batchrun_50_iteration_full_alpha_range.csv\", index=False)\n"
   ]
  },
  {
   "cell_type": "markdown",
   "id": "2d008dc7",
   "metadata": {},
   "source": [
    "## Experiment 2:  The impact of the agents’ attributes\n",
    "\n",
    "## 2.1. Single iteration for each alpha value and R value -> to visualize agents' related data"
   ]
  },
  {
   "cell_type": "markdown",
   "id": "b77265ac",
   "metadata": {},
   "source": [
    "### 1. Risk sensitivity (R)"
   ]
  },
  {
   "cell_type": "code",
   "execution_count": 11,
   "id": "2fe352a7",
   "metadata": {
    "scrolled": true
   },
   "outputs": [
    {
     "name": "stderr",
     "output_type": "stream",
     "text": [
      "100%|█████████████████████████████████████████████| 15/15 [03:04<00:00, 12.28s/it]\n"
     ]
    }
   ],
   "source": [
    "params = {\n",
    "    \"N\": population,\n",
    "    \"h\": grid_height,\n",
    "    \"w\": grid_width,\n",
    "    \"collect_model_data\" : False,\n",
    "#     \"collect_agent_data\" : False,\n",
    "    \"alpha\" : [0 , 0.2 , 0.5 , 0.8 , 1],\n",
    "    \"R\": [0 , 1 , 2],\n",
    "}\n",
    "\n",
    "results = mesa.batch_run(\n",
    "    myModel,\n",
    "    parameters = params,\n",
    "    \n",
    "    iterations = 1,  # Number of model runs per parameter combination\n",
    "    max_steps = simulation_duration,  # Maximum number of steps per model run\n",
    "\n",
    "    number_processes = 1,\n",
    "    data_collection_period = 1,\n",
    "    display_progress = True,\n",
    ")"
   ]
  },
  {
   "cell_type": "code",
   "execution_count": 12,
   "id": "818c8d6b",
   "metadata": {},
   "outputs": [],
   "source": [
    "results_df = pd.DataFrame(results)\n"
   ]
  },
  {
   "cell_type": "code",
   "execution_count": 13,
   "id": "66c58c13",
   "metadata": {},
   "outputs": [],
   "source": [
    "results_df.to_csv(results_folder+\"/ex2_1_R_batchrun_single_iteration.csv\", index=False)\n"
   ]
  },
  {
   "cell_type": "code",
   "execution_count": 14,
   "id": "171aa4cc",
   "metadata": {
    "scrolled": true
   },
   "outputs": [
    {
     "data": {
      "text/plain": [
       "(757500, 29)"
      ]
     },
     "execution_count": 14,
     "metadata": {},
     "output_type": "execute_result"
    }
   ],
   "source": [
    "results_df.shape\n"
   ]
  },
  {
   "cell_type": "markdown",
   "id": "df900d56",
   "metadata": {},
   "source": [
    "### 2. Peer trust (PT)"
   ]
  },
  {
   "cell_type": "code",
   "execution_count": 24,
   "id": "60285611",
   "metadata": {
    "scrolled": true
   },
   "outputs": [
    {
     "name": "stderr",
     "output_type": "stream",
     "text": [
      "100%|█████████████████████████████████████████████| 15/15 [03:03<00:00, 12.23s/it]\n"
     ]
    }
   ],
   "source": [
    "params = {\n",
    "    \"N\": population,\n",
    "    \"h\": grid_height,\n",
    "    \"w\": grid_width,\n",
    "    \"collect_model_data\" : False,\n",
    "#     \"collect_agent_data\" : False,\n",
    "    \"alpha\" : [0 , 0.2 , 0.5 , 0.8 , 1],\n",
    "    \"PT\": [\"low\" , \"mid\" , \"high\"],\n",
    "}\n",
    "\n",
    "results = mesa.batch_run(\n",
    "    myModel,\n",
    "    parameters = params,\n",
    "    \n",
    "    iterations = 1,  # Number of model runs per parameter combination\n",
    "    max_steps = 100,  # Maximum number of steps per model run\n",
    "\n",
    "    number_processes = 1,\n",
    "    data_collection_period = 1,\n",
    "    display_progress = True,\n",
    ")"
   ]
  },
  {
   "cell_type": "code",
   "execution_count": 25,
   "id": "5f4f8012",
   "metadata": {},
   "outputs": [],
   "source": [
    "results_df = pd.DataFrame(results)\n"
   ]
  },
  {
   "cell_type": "code",
   "execution_count": 26,
   "id": "0f34aa40",
   "metadata": {},
   "outputs": [],
   "source": [
    "results_df.to_csv(results_folder+\"/ex2_2_PT_batchrun_single_iteration.csv\", index=False)\n"
   ]
  },
  {
   "cell_type": "markdown",
   "id": "afb10841",
   "metadata": {},
   "source": [
    "### 3. Tendency to share (B)"
   ]
  },
  {
   "cell_type": "code",
   "execution_count": 27,
   "id": "a0de4511",
   "metadata": {
    "scrolled": true
   },
   "outputs": [
    {
     "name": "stderr",
     "output_type": "stream",
     "text": [
      "100%|█████████████████████████████████████████████| 15/15 [03:06<00:00, 12.41s/it]\n"
     ]
    }
   ],
   "source": [
    "params = {\n",
    "    \"N\": population,\n",
    "    \"h\": grid_height,\n",
    "    \"w\": grid_width,\n",
    "    \"collect_model_data\" : False,\n",
    "#     \"collect_agent_data\" : False,\n",
    "    \"alpha\" : [0 , 0.2 , 0.5 , 0.8 , 1],\n",
    "    \"B\": [\"low\" , \"mid\" , \"high\"],\n",
    "}\n",
    "\n",
    "results = mesa.batch_run(\n",
    "    myModel,\n",
    "    parameters = params,\n",
    "    \n",
    "    iterations = 1,  # Number of model runs per parameter combination\n",
    "    max_steps = 100,  # Maximum number of steps per model run\n",
    "\n",
    "    number_processes = 1,\n",
    "    data_collection_period = 1,\n",
    "    display_progress = True,\n",
    ")"
   ]
  },
  {
   "cell_type": "code",
   "execution_count": 28,
   "id": "d73187ab",
   "metadata": {},
   "outputs": [],
   "source": [
    "results_df = pd.DataFrame(results)\n"
   ]
  },
  {
   "cell_type": "code",
   "execution_count": 29,
   "id": "c8e9b9d6",
   "metadata": {},
   "outputs": [],
   "source": [
    "results_df.to_csv(results_folder+\"/ex2_3_B_batchrun_single_iteration.csv\", index=False)\n"
   ]
  },
  {
   "cell_type": "markdown",
   "id": "53077fbf",
   "metadata": {},
   "source": [
    "### 4. risk-tolerance threshold (dt)"
   ]
  },
  {
   "cell_type": "code",
   "execution_count": 30,
   "id": "42c30f9d",
   "metadata": {
    "scrolled": true
   },
   "outputs": [
    {
     "name": "stderr",
     "output_type": "stream",
     "text": [
      "100%|█████████████████████████████████████████████| 15/15 [03:05<00:00, 12.37s/it]\n"
     ]
    }
   ],
   "source": [
    "params = {\n",
    "    \"N\": population,\n",
    "    \"h\": grid_height,\n",
    "    \"w\": grid_width,\n",
    "    \"collect_model_data\" : False,\n",
    "#     \"collect_agent_data\" : False,\n",
    "    \"alpha\" : [0 , 0.2 , 0.5 , 0.8 , 1],\n",
    "    \"dt\": [\"low\" , \"mid\" , \"high\"],\n",
    "}\n",
    "\n",
    "results = mesa.batch_run(\n",
    "    myModel,\n",
    "    parameters = params,\n",
    "    \n",
    "    iterations = 1,  # Number of model runs per parameter combination\n",
    "    max_steps = 100,  # Maximum number of steps per model run\n",
    "\n",
    "    number_processes = 1,\n",
    "    data_collection_period = 1,\n",
    "    display_progress = True,\n",
    ")"
   ]
  },
  {
   "cell_type": "code",
   "execution_count": 31,
   "id": "5394111f",
   "metadata": {},
   "outputs": [],
   "source": [
    "results_df = pd.DataFrame(results)\n"
   ]
  },
  {
   "cell_type": "code",
   "execution_count": 32,
   "id": "10c403f4",
   "metadata": {},
   "outputs": [],
   "source": [
    "results_df.to_csv(results_folder+\"/ex2_4_dt_batchrun_single_iteration.csv\", index=False)\n"
   ]
  },
  {
   "cell_type": "markdown",
   "id": "d4859926",
   "metadata": {},
   "source": [
    "## 2.1. 50 iterations per attributes and alpha combinations\n",
    "### 1. Risk sensitivity R = 0 , 1 ,  2 "
   ]
  },
  {
   "cell_type": "code",
   "execution_count": 38,
   "id": "684fd99c",
   "metadata": {
    "scrolled": true
   },
   "outputs": [
    {
     "name": "stderr",
     "output_type": "stream",
     "text": [
      "100%|█████████████████████████████████████| 750/750 [2:38:15<00:00, 12.66s/it]\n"
     ]
    }
   ],
   "source": [
    "params = {\n",
    "    \"N\": population,\n",
    "    \"h\": grid_height,\n",
    "    \"w\": grid_width,\n",
    "#     \"collect_model_data\" : False,\n",
    "    \"collect_agent_data\" : False,\n",
    "    \"alpha\" : [0 , 0.2 , 0.5 , 0.8 , 1],\n",
    "    \"R\": [0 , 1 , 2],\n",
    "}\n",
    "\n",
    "results = mesa.batch_run(\n",
    "    myModel,\n",
    "    parameters = params,\n",
    "    \n",
    "    iterations = 50,  # Number of model runs per parameter combination\n",
    "    max_steps = simulation_duration,  # Maximum number of steps per model run\n",
    "\n",
    "    number_processes = 1,\n",
    "    data_collection_period = 5,\n",
    "    display_progress = True,\n",
    ")"
   ]
  },
  {
   "cell_type": "code",
   "execution_count": 39,
   "id": "deca5827",
   "metadata": {},
   "outputs": [],
   "source": [
    "results_df = pd.DataFrame(results)\n"
   ]
  },
  {
   "cell_type": "code",
   "execution_count": 40,
   "id": "b533471d",
   "metadata": {},
   "outputs": [],
   "source": [
    "# results_df.to_csv(results_folder+\"/ex2_1_R_batchrun_50_iteration.csv\", index=False)\n",
    "results_df.to_csv(results_folder+\"/ex2_1_R_batchrun_50_iteration(2).csv\", index=False)\n"
   ]
  },
  {
   "cell_type": "markdown",
   "id": "51229991",
   "metadata": {},
   "source": [
    "### 2. Peer trust PT = low , mid , high"
   ]
  },
  {
   "cell_type": "code",
   "execution_count": 41,
   "id": "b7ecfc36",
   "metadata": {
    "scrolled": true
   },
   "outputs": [
    {
     "name": "stderr",
     "output_type": "stream",
     "text": [
      "100%|█████████████████████████████████████| 750/750 [2:39:14<00:00, 12.74s/it]\n"
     ]
    }
   ],
   "source": [
    "params = {\n",
    "    \"N\": 500,\n",
    "    \"h\": 5,\n",
    "    \"w\": 5,\n",
    "#     \"collect_model_data\" : False,\n",
    "    \"collect_agent_data\" : False,\n",
    "    \"alpha\" : [0 , 0.2 , 0.5 , 0.8 , 1],\n",
    "    \"PT\": [\"low\" , \"mid\" , \"high\"],\n",
    "}\n",
    "\n",
    "results = mesa.batch_run(\n",
    "    myModel,\n",
    "    parameters = params,\n",
    "    \n",
    "    iterations = 50,  # Number of model runs per parameter combination\n",
    "    max_steps = simulation_duration,  # Maximum number of steps per model run\n",
    "\n",
    "    number_processes = 1,\n",
    "    data_collection_period = 5,\n",
    "    display_progress = True,\n",
    ")"
   ]
  },
  {
   "cell_type": "code",
   "execution_count": 42,
   "id": "cc2dfbd1",
   "metadata": {},
   "outputs": [],
   "source": [
    "results_df = pd.DataFrame(results)\n"
   ]
  },
  {
   "cell_type": "code",
   "execution_count": 43,
   "id": "3c21280e",
   "metadata": {},
   "outputs": [],
   "source": [
    "# results_df.to_csv(results_folder+\"/ex2_2_PT_batchrun_50_iteration.csv\", index=False)\n",
    "results_df.to_csv(results_folder+\"/ex2_2_PT_batchrun_50_iteration(2).csv\", index=False)\n"
   ]
  },
  {
   "cell_type": "markdown",
   "id": "9f422113",
   "metadata": {},
   "source": [
    "### 3. Tendency to share B = low , mid , high"
   ]
  },
  {
   "cell_type": "code",
   "execution_count": 44,
   "id": "fcaa4fb3",
   "metadata": {
    "scrolled": false
   },
   "outputs": [
    {
     "name": "stderr",
     "output_type": "stream",
     "text": [
      "100%|█████████████████████████████████████| 750/750 [2:36:43<00:00, 12.54s/it]\n"
     ]
    }
   ],
   "source": [
    "params = {\n",
    "    \"N\": 500,\n",
    "    \"h\": 5,\n",
    "    \"w\": 5,\n",
    "#     \"collect_model_data\" : False,\n",
    "    \"collect_agent_data\" : False,\n",
    "    \"alpha\" : [0 , 0.2 , 0.5 , 0.8 , 1],\n",
    "    \"B\" : [\"low\" , \"mid\" , \"high\"],\n",
    "}\n",
    "\n",
    "results = mesa.batch_run(\n",
    "    myModel,\n",
    "    parameters = params,\n",
    "    \n",
    "    iterations = 50,  # Number of model runs per parameter combination\n",
    "    max_steps = 100,  # Maximum number of steps per model run\n",
    "\n",
    "    number_processes = 1,\n",
    "    data_collection_period = 5,\n",
    "    display_progress = True,\n",
    ")"
   ]
  },
  {
   "cell_type": "code",
   "execution_count": 45,
   "id": "b8670b66",
   "metadata": {},
   "outputs": [],
   "source": [
    "results_df = pd.DataFrame(results)\n"
   ]
  },
  {
   "cell_type": "code",
   "execution_count": 46,
   "id": "c2314c88",
   "metadata": {},
   "outputs": [],
   "source": [
    "# results_df.to_csv(results_folder+\"/ex2_3_B_batchrun_50_iteration.csv\", index=False)\n",
    "results_df.to_csv(results_folder+\"/ex2_3_B_batchrun_50_iteration(2).csv\", index=False)\n"
   ]
  },
  {
   "cell_type": "markdown",
   "id": "8ba2e193",
   "metadata": {},
   "source": [
    "### 4. Risk-tolerance threshold dt = low , mid , high"
   ]
  },
  {
   "cell_type": "code",
   "execution_count": 12,
   "id": "a923526d",
   "metadata": {
    "scrolled": true
   },
   "outputs": [
    {
     "name": "stderr",
     "output_type": "stream",
     "text": [
      "100%|█████████████████████████████████████████| 750/750 [2:36:13<00:00, 12.50s/it]\n"
     ]
    }
   ],
   "source": [
    "params = {\n",
    "    \"N\": 500,\n",
    "    \"h\": 5,\n",
    "    \"w\": 5,\n",
    "#     \"collect_model_data\" : False,\n",
    "    \"collect_agent_data\" : False,\n",
    "    \"alpha\" : [0 , 0.2 , 0.5 , 0.8 , 1],\n",
    "    \"dt\" : [\"low\" , \"mid\" , \"high\"],\n",
    "}\n",
    "\n",
    "results = mesa.batch_run(\n",
    "    myModel,\n",
    "    parameters = params,\n",
    "    \n",
    "    iterations = 50,  # Number of model runs per parameter combination\n",
    "    max_steps = 100,  # Maximum number of steps per model run\n",
    "\n",
    "    number_processes = 1,\n",
    "    data_collection_period = 5,\n",
    "    display_progress = True,\n",
    ")"
   ]
  },
  {
   "cell_type": "code",
   "execution_count": 13,
   "id": "d634af12",
   "metadata": {},
   "outputs": [],
   "source": [
    "results_df = pd.DataFrame(results)\n"
   ]
  },
  {
   "cell_type": "code",
   "execution_count": 14,
   "id": "f8a2fc7a",
   "metadata": {},
   "outputs": [],
   "source": [
    "results_df.to_csv(results_folder+\"/ex2_4_dt_batchrun_50_iteration.csv\", index=False)\n",
    "\n"
   ]
  },
  {
   "cell_type": "markdown",
   "id": "c236fd32",
   "metadata": {},
   "source": [
    "## Experiment 3:  The impact of the network tepology and the offline grid\n"
   ]
  },
  {
   "cell_type": "markdown",
   "id": "ede619ec",
   "metadata": {},
   "source": [
    "### 1. offline grid"
   ]
  },
  {
   "cell_type": "code",
   "execution_count": null,
   "id": "1485ce66",
   "metadata": {},
   "outputs": [],
   "source": [
    "N = 500\n",
    "steps = 100\n",
    "itera = 100"
   ]
  },
  {
   "cell_type": "code",
   "execution_count": 8,
   "id": "7219af35",
   "metadata": {},
   "outputs": [
    {
     "name": "stderr",
     "output_type": "stream",
     "text": [
      "100%|█████████████████████████████████████| 300/300 [1:08:24<00:00, 13.68s/it]\n"
     ]
    }
   ],
   "source": [
    "params = {\n",
    "    \"N\": population,\n",
    "    \"grid_dimensions\": [(1,1) , (5,5) , (10,10)],\n",
    "#     \"collect_model_data\" : False,\n",
    "    \"collect_agent_data\" : False,\n",
    "    \"alpha\" : 0.5\n",
    "}\n",
    "\n",
    "results = mesa.batch_run(\n",
    "    myModel,\n",
    "    parameters = params,\n",
    "    \n",
    "    iterations = batch_run_iterations,  \n",
    "    max_steps = simulation_duration,\n",
    "\n",
    "    number_processes = 1,\n",
    "    data_collection_period = 50,\n",
    "    display_progress = True,\n",
    ")"
   ]
  },
  {
   "cell_type": "code",
   "execution_count": 9,
   "id": "0ca82d22",
   "metadata": {},
   "outputs": [],
   "source": [
    "results_df = pd.DataFrame(results)\n"
   ]
  },
  {
   "cell_type": "code",
   "execution_count": 10,
   "id": "349c2c6f",
   "metadata": {},
   "outputs": [],
   "source": [
    "# results_df.to_csv(results_folder+\"/ex3_1_h_w_tuple_batchrun_100_iteration.csv\", index=False)\n",
    "results_df.to_csv(results_folder+\"/ex3_1_h_w_tuple_alpha_05_batchrun_100_iteration.csv\", index=False)\n"
   ]
  },
  {
   "cell_type": "code",
   "execution_count": 51,
   "id": "202c786c",
   "metadata": {
    "scrolled": true
   },
   "outputs": [
    {
     "name": "stderr",
     "output_type": "stream",
     "text": [
      "100%|████████████████████████████████| 10000/10000 [46:08:25<00:00, 16.61s/it]\n"
     ]
    }
   ],
   "source": [
    "params = {\n",
    "    \"N\": 500,\n",
    "    \"h\": np.arange(1 , 11 , 1),\n",
    "    \"w\": np.arange(1 , 11 , 1),\n",
    "#     \"collect_model_data\" : False,\n",
    "    \"collect_agent_data\" : False,\n",
    "#     \"alpha\" : [0 , 0.2 , 0.5 , 0.8 , 1]\n",
    "}\n",
    "\n",
    "results = mesa.batch_run(\n",
    "    myModel,\n",
    "    parameters = params,\n",
    "    \n",
    "    iterations = 100,  # Number of model runs per parameter combination\n",
    "    max_steps = 100,  # Maximum number of steps per model run\n",
    "\n",
    "    number_processes = 1,\n",
    "    data_collection_period = 100,\n",
    "    display_progress = True,\n",
    ")"
   ]
  },
  {
   "cell_type": "code",
   "execution_count": 52,
   "id": "1eec9b1e",
   "metadata": {},
   "outputs": [],
   "source": [
    "results_df = pd.DataFrame(results)\n"
   ]
  },
  {
   "cell_type": "code",
   "execution_count": 53,
   "id": "433eced2",
   "metadata": {},
   "outputs": [],
   "source": [
    "# results_df.to_csv(results_folder+\"/ex3_1_offline_grid_batchrun_50_iterations.csv\", index=False)\n",
    "results_df.to_csv(results_folder+\"/ex3_1_offline_grid_batchrun_100_iterations.csv\", index=False)\n"
   ]
  },
  {
   "cell_type": "code",
   "execution_count": 55,
   "id": "ac172de0",
   "metadata": {
    "scrolled": true
   },
   "outputs": [
    {
     "name": "stderr",
     "output_type": "stream",
     "text": [
      "100%|███████████████████████████████████████████| 3/3 [00:03<00:00,  1.24s/it]\n"
     ]
    }
   ],
   "source": [
    "params = {\n",
    "    \"N\": 500,\n",
    "#     \"h\": np.arange(1 , 11 , 1),\n",
    "#     \"w\": np.arange(1 , 11 , 1),\n",
    "#     \"collect_model_data\" : False,\n",
    "#     \"collect_agent_data\" : False,\n",
    "#     \"alpha\" : [0 , 0.2 , 0.5 , 0.8 , 1]\n",
    "    \"grid_dimensions\": [(1,1) , (5,5) , (10,10)],\n",
    "    \"alpha\" : 0,\n",
    "}\n",
    "\n",
    "results = mesa.batch_run(\n",
    "    myModel,\n",
    "    parameters = params,\n",
    "    \n",
    "    iterations = 1,  # Number of model runs per parameter combination\n",
    "    max_steps = 100,  # Maximum number of steps per model run\n",
    "\n",
    "    number_processes = 1,\n",
    "    data_collection_period = 10,\n",
    "    display_progress = True,\n",
    ")"
   ]
  },
  {
   "cell_type": "code",
   "execution_count": 56,
   "id": "07e6cb98",
   "metadata": {},
   "outputs": [],
   "source": [
    "results_df = pd.DataFrame(results)\n"
   ]
  },
  {
   "cell_type": "code",
   "execution_count": 57,
   "id": "d14a1221",
   "metadata": {},
   "outputs": [
    {
     "data": {
      "text/plain": [
       "array([0.528, 0.51 , 0.48 ])"
      ]
     },
     "execution_count": 57,
     "metadata": {},
     "output_type": "execute_result"
    }
   ],
   "source": [
    "results_df.query(\"Step == 100\").mobility_rate.unique()"
   ]
  },
  {
   "cell_type": "code",
   "execution_count": 58,
   "id": "c6db8407",
   "metadata": {},
   "outputs": [],
   "source": [
    "# results_df.to_csv(results_folder+\"/ex3_1_offline_grid_batchrun_1_iteration.csv\", index=False)\n"
   ]
  },
  {
   "cell_type": "code",
   "execution_count": 59,
   "id": "4da19625",
   "metadata": {},
   "outputs": [],
   "source": [
    "# results_df.to_csv(results_folder+\"/ex3_1_offline_grid_batchrun_1_iteration_500_agents.csv\", index=False)\n"
   ]
  },
  {
   "cell_type": "code",
   "execution_count": 60,
   "id": "1403c7f3",
   "metadata": {},
   "outputs": [],
   "source": [
    "results_df.to_csv(results_folder+\"/ex3_1_offline_grid_batchrun_1_iteration_500_agents_alpha_0.csv\", index=False)\n"
   ]
  },
  {
   "cell_type": "markdown",
   "id": "6f6c61ea",
   "metadata": {},
   "source": [
    "### 2. Online network"
   ]
  },
  {
   "cell_type": "markdown",
   "id": "789dcfc9",
   "metadata": {},
   "source": [
    "### 100 iterations"
   ]
  },
  {
   "cell_type": "code",
   "execution_count": 19,
   "id": "5b6d3390",
   "metadata": {},
   "outputs": [
    {
     "name": "stderr",
     "output_type": "stream",
     "text": [
      "100%|███████████████████████████████████████| 400/400 [07:01<00:00,  1.05s/it]\n"
     ]
    }
   ],
   "source": [
    "params = {\n",
    "    \"N\": population,\n",
    "    \"grid_dimensions\": [(5,5)],\n",
    "    \"network\": \"scale_free\",\n",
    "    \"net_var2_m\" : 10,\n",
    "    \"alpha\" : [0.2 , 0.5 , 0.8 , 1],\n",
    "    #     \"collect_model_data\" : False,\n",
    "    \"collect_agent_data\" : False,\n",
    "    \n",
    "}\n",
    "\n",
    "results = mesa.batch_run(\n",
    "    myModel,\n",
    "    parameters = params,\n",
    "    \n",
    "    iterations = batch_run_iterations,  \n",
    "    max_steps = simulation_duration,\n",
    "\n",
    "    number_processes = 1,\n",
    "    data_collection_period = simulation_duration,\n",
    "    display_progress = True,\n",
    ")"
   ]
  },
  {
   "cell_type": "code",
   "execution_count": 20,
   "id": "7bf112e4",
   "metadata": {},
   "outputs": [],
   "source": [
    "results_df = pd.DataFrame(results)\n"
   ]
  },
  {
   "cell_type": "code",
   "execution_count": 21,
   "id": "8a6d1ace",
   "metadata": {},
   "outputs": [],
   "source": [
    "results_df.to_csv(results_folder+\"/ex3_2_oanline_network_free-scale.csv\", index=False)\n"
   ]
  },
  {
   "cell_type": "code",
   "execution_count": 22,
   "id": "0b825800",
   "metadata": {},
   "outputs": [
    {
     "name": "stderr",
     "output_type": "stream",
     "text": [
      "100%|███████████████████████████████████████| 400/400 [47:21<00:00,  7.10s/it]\n"
     ]
    }
   ],
   "source": [
    "params = {\n",
    "    \"N\": population,\n",
    "    \"grid_dimensions\": [(5,5)],\n",
    "    \n",
    "#     \"network\": \"small_world\",\n",
    "#     \"net_var1_p\" : 0,\n",
    "    \n",
    "    \"network\": \"regular\",\n",
    "    \"net_var2_m\" : population//2,\n",
    "\n",
    "    \"alpha\" : [0.2 , 0.5 , 0.8 , 1],\n",
    "#     \"collect_model_data\" : False,\n",
    "    \"collect_agent_data\" : False,\n",
    "    \n",
    "}\n",
    "\n",
    "results = mesa.batch_run(\n",
    "    myModel,\n",
    "    parameters = params,\n",
    "    \n",
    "    iterations = batch_run_iterations,  \n",
    "    max_steps = simulation_duration,\n",
    "\n",
    "    number_processes = 1,\n",
    "    data_collection_period = simulation_duration,\n",
    "    display_progress = True,\n",
    ")"
   ]
  },
  {
   "cell_type": "code",
   "execution_count": 23,
   "id": "9e4ee56f",
   "metadata": {},
   "outputs": [],
   "source": [
    "results_df = pd.DataFrame(results)\n",
    "\n",
    "\n",
    " "
   ]
  },
  {
   "cell_type": "code",
   "execution_count": 24,
   "id": "96c3a76b",
   "metadata": {},
   "outputs": [],
   "source": [
    "results_df.to_csv(results_folder+\"/ex3_2_online_network_regular.csv\", index=False)\n"
   ]
  },
  {
   "cell_type": "markdown",
   "id": "d27e1fdc",
   "metadata": {},
   "source": [
    "### single iteration"
   ]
  },
  {
   "cell_type": "code",
   "execution_count": 98,
   "id": "e5180960",
   "metadata": {},
   "outputs": [
    {
     "name": "stderr",
     "output_type": "stream",
     "text": [
      "100%|███████████████████████████████████████████| 4/4 [00:04<00:00,  1.19s/it]\n"
     ]
    }
   ],
   "source": [
    "params = {\n",
    "    \"N\": population,\n",
    "    \"grid_dimensions\": [(5,5)],\n",
    "    \"network\": \"scale_free\",\n",
    "    \"net_var2_m\" : 10,\n",
    "    \"alpha\" : [0.2 , 0.5 , 0.8 , 1],\n",
    "#     \"collect_model_data\" : False,\n",
    "#     \"collect_agent_data\" : False,\n",
    "    \n",
    "}\n",
    "\n",
    "results = mesa.batch_run(\n",
    "    myModel,\n",
    "    parameters = params,\n",
    "    \n",
    "    iterations = 1,  \n",
    "    max_steps = simulation_duration,\n",
    "\n",
    "    number_processes = 1,\n",
    "    data_collection_period = 1,\n",
    "    display_progress = True,\n",
    ")"
   ]
  },
  {
   "cell_type": "code",
   "execution_count": 99,
   "id": "d826dbe2",
   "metadata": {},
   "outputs": [],
   "source": [
    "results_df = pd.DataFrame(results)\n"
   ]
  },
  {
   "cell_type": "code",
   "execution_count": 100,
   "id": "19865f53",
   "metadata": {},
   "outputs": [],
   "source": [
    "results_df.to_csv(results_folder+\"/ex3_2_online_network_free-scale_1_iter.csv\", index=False)\n"
   ]
  },
  {
   "cell_type": "code",
   "execution_count": null,
   "id": "3494a66d",
   "metadata": {},
   "outputs": [],
   "source": []
  },
  {
   "cell_type": "code",
   "execution_count": 101,
   "id": "782a279e",
   "metadata": {},
   "outputs": [
    {
     "name": "stderr",
     "output_type": "stream",
     "text": [
      "100%|███████████████████████████████████████████| 4/4 [00:27<00:00,  6.95s/it]\n"
     ]
    }
   ],
   "source": [
    "params = {\n",
    "    \"N\": population,\n",
    "    \"grid_dimensions\": [(5,5)],\n",
    "    \"network\": \"regular\",\n",
    "    \"net_var2_m\" : population//2,\n",
    "    \"alpha\" : [0.2 , 0.5 , 0.8 , 1],\n",
    "#     \"collect_model_data\" : False,\n",
    "#     \"collect_agent_data\" : False,\n",
    "    \n",
    "}\n",
    "\n",
    "results = mesa.batch_run(\n",
    "    myModel,\n",
    "    parameters = params,\n",
    "    \n",
    "    iterations = 1,  \n",
    "    max_steps = simulation_duration,\n",
    "\n",
    "    number_processes = 1,\n",
    "    data_collection_period = 1,\n",
    "    display_progress = True,\n",
    ")"
   ]
  },
  {
   "cell_type": "code",
   "execution_count": 102,
   "id": "2fa785bc",
   "metadata": {},
   "outputs": [],
   "source": [
    "results_df = pd.DataFrame(results)\n"
   ]
  },
  {
   "cell_type": "code",
   "execution_count": 103,
   "id": "b76a0175",
   "metadata": {},
   "outputs": [],
   "source": [
    "results_df.to_csv(results_folder+\"/ex3_2_online_network_regular_1_iter.csv\", index=False)\n"
   ]
  },
  {
   "cell_type": "code",
   "execution_count": null,
   "id": "75d38dcf",
   "metadata": {},
   "outputs": [],
   "source": []
  },
  {
   "cell_type": "code",
   "execution_count": 107,
   "id": "c2d1bb08",
   "metadata": {},
   "outputs": [
    {
     "name": "stderr",
     "output_type": "stream",
     "text": [
      "100%|███████████████████████████████████████████| 4/4 [00:49<00:00, 12.49s/it]\n"
     ]
    }
   ],
   "source": [
    "params = {\n",
    "    \"N\": population,\n",
    "    \"grid_dimensions\": [(5,5)],\n",
    "    \"network\": \"complete\",\n",
    "    \"alpha\" : [0.2 , 0.5 , 0.8 , 1],\n",
    "#     \"collect_model_data\" : False,\n",
    "#     \"collect_agent_data\" : False,\n",
    "    \n",
    "}\n",
    "\n",
    "results = mesa.batch_run(\n",
    "    myModel,\n",
    "    parameters = params,\n",
    "    \n",
    "    iterations = 1,  \n",
    "    max_steps = simulation_duration,\n",
    "\n",
    "    number_processes = 1,\n",
    "    data_collection_period = 1,\n",
    "    display_progress = True,\n",
    ")"
   ]
  },
  {
   "cell_type": "code",
   "execution_count": 108,
   "id": "ccedd0cc",
   "metadata": {},
   "outputs": [],
   "source": [
    "results_df = pd.DataFrame(results)\n"
   ]
  },
  {
   "cell_type": "code",
   "execution_count": 109,
   "id": "0ee9b7fe",
   "metadata": {},
   "outputs": [],
   "source": [
    "results_df.to_csv(results_folder+\"/ex3_2_online_network_complete_1_iter.csv\", index=False)\n"
   ]
  },
  {
   "cell_type": "code",
   "execution_count": null,
   "id": "e376f19d",
   "metadata": {},
   "outputs": [],
   "source": []
  }
 ],
 "metadata": {
  "kernelspec": {
   "display_name": "Python 3 (ipykernel)",
   "language": "python",
   "name": "python3"
  },
  "language_info": {
   "codemirror_mode": {
    "name": "ipython",
    "version": 3
   },
   "file_extension": ".py",
   "mimetype": "text/x-python",
   "name": "python",
   "nbconvert_exporter": "python",
   "pygments_lexer": "ipython3",
   "version": "3.9.17"
  }
 },
 "nbformat": 4,
 "nbformat_minor": 5
}
