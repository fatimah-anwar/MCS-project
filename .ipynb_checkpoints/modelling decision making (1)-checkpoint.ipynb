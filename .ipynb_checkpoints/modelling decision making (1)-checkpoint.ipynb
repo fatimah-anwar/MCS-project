{
 "cells": [
  {
   "cell_type": "code",
   "execution_count": 20,
   "id": "5c074979",
   "metadata": {},
   "outputs": [],
   "source": [
    "import mesa\n",
    "\n",
    "import pandas as pd\n",
    "import numpy as np\n",
    "import seaborn as sns\n",
    "import matplotlib.pyplot as plt\n",
    "\n",
    "import random\n",
    "import networkx as nx   \n",
    "\n",
    "from enum import Enum\n",
    "\n",
    "sns.set(style=\"whitegrid\")"
   ]
  },
  {
   "cell_type": "code",
   "execution_count": 32,
   "id": "9eff8552",
   "metadata": {},
   "outputs": [],
   "source": [
    "class State(Enum):\n",
    "    MOVE = 1\n",
    "    NO_MOVE = 0"
   ]
  },
  {
   "cell_type": "code",
   "execution_count": 227,
   "id": "6e196413",
   "metadata": {},
   "outputs": [],
   "source": [
    "# simple model\n",
    "class userAgent(mesa.Agent):\n",
    "    \n",
    "    def __init__( self, unique_id, model):\n",
    "        \n",
    "        super().__init__(unique_id, model)\n",
    "        \n",
    "#         mean = 0\n",
    "#         std_dev = 1\n",
    "#         self.opinion = np.random.normal(mean, std_dev)\n",
    "\n",
    "        self.opinion = random.uniform(0, 1) \n",
    "        self.peer_trust = random.uniform(0, 1)\n",
    "        self.tendency_to_share = random.uniform(0, 1)\n",
    "        \n",
    "        temp = random.uniform(0, 1)\n",
    "        if temp < 1.0/3.0:\n",
    "            self.risk_sensitivity = 0 \n",
    "        else:\n",
    "            temp2 = random.uniform(0, 1)\n",
    "            if temp2 < 0.5:\n",
    "                self.risk_sensitivity = 2 \n",
    "            else:\n",
    "                self.risk_sensitivity = 1 \n",
    "                \n",
    "        self.decision_th = random.uniform(0, 1)\n",
    "        \n",
    "        if self.opinion < self.decision_th:\n",
    "            self.decision = 0\n",
    "        elif self.opinion >= self.decision_th:\n",
    "            self.decision = 1\n",
    "            \n",
    "        self.mobility_state = self.set_mobility_state(self.decision)\n",
    "        \n",
    "  \n",
    "    def set_mobility_state(self, decision):\n",
    "        if decision == 0:\n",
    "            return State.NO_MOVE\n",
    "        else:\n",
    "            return State.MOVE\n",
    "        \n",
    "        \n",
    "    def update_opinion(self):\n",
    "\n",
    "        neighbors = self.model.grid.get_neighborhood(self.pos, include_center = False) \n",
    "        if len(neighbors) > 0:\n",
    "            \n",
    "            other_agent = self.random.choice(self.model.grid.get_cell_list_contents(neighbors))\n",
    "            saved_opinion = self.opinion\n",
    "            \n",
    "            # other agent speek\n",
    "            speak_prob = other_agent.opinion ** (1.0 / other_agent.tendency_to_share)\n",
    "            if random.uniform(0, 1) < speak_prob:\n",
    "                self.opinion = self.opinion + self.peer_trust * (other_agent.opinion - self.opinion)\n",
    "\n",
    "                if self.risk_sensitivity == 0:\n",
    "                    self.opinion = self.opinion / 2.0\n",
    "                elif self.risk_sensitivity == 2:\n",
    "                    self.opinion = (1.0 + self.opinion) / 2.0\n",
    "            \n",
    "            # current agent speek\n",
    "            speak_prob = self.opinion ** (1.0 / self.tendency_to_share)\n",
    "            if random.uniform(0, 1) < speak_prob:\n",
    "                other_agent.opinion = other_agent.opinion + other_agent.peer_trust * (saved_opinion - other_agent.opinion)\n",
    "\n",
    "                if other_agent.risk_sensitivity == 0:\n",
    "                    other_agent.opinion = other_agent.opinion / 2.0\n",
    "                elif other_agent.risk_sensitivity == 2:\n",
    "                    other_agent.opinion = (1.0 + other_agent.opinion) / 2.0\n",
    "                    \n",
    "    \n",
    "    def simple_Update(self):\n",
    "        neighbors = self.model.grid.get_neighborhood(self.pos, include_center = False) \n",
    "\n",
    "        if len(neighbors) > 0:\n",
    "            other_agent = self.random.choice(self.model.grid.get_cell_list_contents(neighbors))\n",
    "          \n",
    "            # Update opinions\n",
    "            saved_opinion = self.opinion\n",
    "            self.opinion = self.opinion + self.peer_trust * (other_agent.opinion - self.opinion)\n",
    "            other_agent.opinion = other_agent.opinion + other_agent.peer_trust * (saved_opinion - other_agent.opinion)\n",
    "\n",
    "    \n",
    "    \n",
    "    def make_mobililty_decision(self, opinion):\n",
    "        if opinion < self.decision_th:\n",
    "            self.decision = 0\n",
    "        elif opinion >= self.decision_th:\n",
    "            self.decision = 1\n",
    "            \n",
    "        self.mobility_state = self.set_mobility_state(self.decision)\n",
    "        \n",
    "        \n",
    "    def step(self):\n",
    "        self.update_opinion()\n",
    "#         self.simple_Update()\n",
    "\n",
    "        self.make_mobililty_decision(self.opinion)\n",
    "        \n",
    "        "
   ]
  },
  {
   "cell_type": "code",
   "execution_count": 228,
   "id": "babe2c8e",
   "metadata": {},
   "outputs": [],
   "source": [
    "def opinion_avg(model):\n",
    "    return sum(a.opinion for a in model.grid.get_all_cell_contents())/model.num_agents\n",
    "\n",
    "def mobility_count(model):\n",
    "    return sum(1 for a in model.grid.get_all_cell_contents() if a.mobility_state is State.MOVE)\n",
    "    \n",
    "def no_mobility_count(model):\n",
    "    return sum(1 for a in model.grid.get_all_cell_contents() if a.mobility_state is State.NO_MOVE)"
   ]
  },
  {
   "cell_type": "code",
   "execution_count": 229,
   "id": "9db30cfc",
   "metadata": {},
   "outputs": [],
   "source": [
    "class opinionsModel(mesa.Model):\n",
    "    \n",
    "    def __init__(self, N):\n",
    "      \n",
    "        self.num_agents = N\n",
    "\n",
    "        self.G = nx.complete_graph(n = self.num_agents)\n",
    "        self.datacollector = mesa.DataCollector(\n",
    "            model_reporters = {\n",
    "                \"op_avg\": opinion_avg,\n",
    "                \"moving\" : mobility_count,\n",
    "                \"not_moving\" : no_mobility_count,\n",
    "            },\n",
    "            agent_reporters = {\n",
    "                \"opinion\" : \"opinion\", \n",
    "                \"peer_trust\" : \"peer_trust\",\n",
    "                \"risk_sensitivity\": \"risk_sensitivity\",\n",
    "                \"tendency_to_share\" : \"tendency_to_share\",\n",
    "                \"decision_th\" : \"decision_th\",\n",
    "                \"decision\" : \"decision\",\n",
    "                \"mobility_state\" : \"mobility_state\"\n",
    "            }\n",
    "        )\n",
    "\n",
    "        self.grid = mesa.space.NetworkGrid(self.G)\n",
    "        self.schedule = mesa.time.RandomActivation(self)\n",
    "\n",
    "        for i, node in enumerate(self.G.nodes()):           \n",
    "            a = userAgent(i, self)\n",
    "            self.schedule.add(a)\n",
    "            self.grid.place_agent(a, node)\n",
    "            \n",
    "        self.datacollector.collect(self)\n",
    "\n",
    "        \n",
    "    def step(self):\n",
    "        self.schedule.step()\n",
    "        self.datacollector.collect(self)"
   ]
  },
  {
   "cell_type": "markdown",
   "id": "6bd67c77",
   "metadata": {},
   "source": [
    "### Decision making with the complete opinion update function"
   ]
  },
  {
   "cell_type": "code",
   "execution_count": 230,
   "id": "a3c344c9",
   "metadata": {},
   "outputs": [],
   "source": [
    "model = opinionsModel(N = 50)\n",
    "num_steps = 100\n",
    "for _ in range(num_steps):\n",
    "    model.step()\n",
    "    \n",
    "model_data = model.datacollector.get_model_vars_dataframe()\n",
    "agents_data = model.datacollector.get_agent_vars_dataframe()"
   ]
  },
  {
   "cell_type": "code",
   "execution_count": 238,
   "id": "7418304b",
   "metadata": {},
   "outputs": [
    {
     "data": {
      "text/plain": [
       "decision\n",
       "0    31\n",
       "1    19\n",
       "Name: count, dtype: int64"
      ]
     },
     "execution_count": 238,
     "metadata": {},
     "output_type": "execute_result"
    }
   ],
   "source": [
    "agents_data.query(\"Step == 0\").decision.value_counts()"
   ]
  },
  {
   "cell_type": "code",
   "execution_count": 239,
   "id": "da29411b",
   "metadata": {},
   "outputs": [
    {
     "data": {
      "text/html": [
       "<div>\n",
       "<style scoped>\n",
       "    .dataframe tbody tr th:only-of-type {\n",
       "        vertical-align: middle;\n",
       "    }\n",
       "\n",
       "    .dataframe tbody tr th {\n",
       "        vertical-align: top;\n",
       "    }\n",
       "\n",
       "    .dataframe thead th {\n",
       "        text-align: right;\n",
       "    }\n",
       "</style>\n",
       "<table border=\"1\" class=\"dataframe\">\n",
       "  <thead>\n",
       "    <tr style=\"text-align: right;\">\n",
       "      <th></th>\n",
       "      <th>op_avg</th>\n",
       "      <th>moving</th>\n",
       "      <th>not_moving</th>\n",
       "    </tr>\n",
       "  </thead>\n",
       "  <tbody>\n",
       "    <tr>\n",
       "      <th>0</th>\n",
       "      <td>0.541014</td>\n",
       "      <td>19</td>\n",
       "      <td>31</td>\n",
       "    </tr>\n",
       "    <tr>\n",
       "      <th>1</th>\n",
       "      <td>0.575489</td>\n",
       "      <td>23</td>\n",
       "      <td>27</td>\n",
       "    </tr>\n",
       "    <tr>\n",
       "      <th>2</th>\n",
       "      <td>0.573945</td>\n",
       "      <td>24</td>\n",
       "      <td>26</td>\n",
       "    </tr>\n",
       "    <tr>\n",
       "      <th>3</th>\n",
       "      <td>0.601033</td>\n",
       "      <td>25</td>\n",
       "      <td>25</td>\n",
       "    </tr>\n",
       "    <tr>\n",
       "      <th>4</th>\n",
       "      <td>0.593736</td>\n",
       "      <td>28</td>\n",
       "      <td>22</td>\n",
       "    </tr>\n",
       "    <tr>\n",
       "      <th>...</th>\n",
       "      <td>...</td>\n",
       "      <td>...</td>\n",
       "      <td>...</td>\n",
       "    </tr>\n",
       "    <tr>\n",
       "      <th>96</th>\n",
       "      <td>0.658031</td>\n",
       "      <td>32</td>\n",
       "      <td>18</td>\n",
       "    </tr>\n",
       "    <tr>\n",
       "      <th>97</th>\n",
       "      <td>0.667223</td>\n",
       "      <td>32</td>\n",
       "      <td>18</td>\n",
       "    </tr>\n",
       "    <tr>\n",
       "      <th>98</th>\n",
       "      <td>0.660955</td>\n",
       "      <td>32</td>\n",
       "      <td>18</td>\n",
       "    </tr>\n",
       "    <tr>\n",
       "      <th>99</th>\n",
       "      <td>0.653467</td>\n",
       "      <td>32</td>\n",
       "      <td>18</td>\n",
       "    </tr>\n",
       "    <tr>\n",
       "      <th>100</th>\n",
       "      <td>0.666365</td>\n",
       "      <td>32</td>\n",
       "      <td>18</td>\n",
       "    </tr>\n",
       "  </tbody>\n",
       "</table>\n",
       "<p>101 rows × 3 columns</p>\n",
       "</div>"
      ],
      "text/plain": [
       "       op_avg  moving  not_moving\n",
       "0    0.541014      19          31\n",
       "1    0.575489      23          27\n",
       "2    0.573945      24          26\n",
       "3    0.601033      25          25\n",
       "4    0.593736      28          22\n",
       "..        ...     ...         ...\n",
       "96   0.658031      32          18\n",
       "97   0.667223      32          18\n",
       "98   0.660955      32          18\n",
       "99   0.653467      32          18\n",
       "100  0.666365      32          18\n",
       "\n",
       "[101 rows x 3 columns]"
      ]
     },
     "execution_count": 239,
     "metadata": {},
     "output_type": "execute_result"
    }
   ],
   "source": [
    "model_data"
   ]
  },
  {
   "cell_type": "code",
   "execution_count": 232,
   "id": "627ff80d",
   "metadata": {},
   "outputs": [
    {
     "data": {
      "image/png": "[encoded data removed]",
      "text/plain": [
       "<Figure size 640x480 with 1 Axes>"
      ]
     },
     "metadata": {},
     "output_type": "display_data"
    }
   ],
   "source": [
    "sns.lineplot(x=model_data.index, y=\"moving\", data=model_data) \n",
    "# sns.lineplot(x=model_data.index, y=\"not_moving\", data=model_data, label = \"Not Moving agents \")\n",
    "\n",
    "    \n",
    "plt.xlabel(\"Time Step\")\n",
    "plt.ylabel(\"agents mobility\")\n",
    "plt.show()"
   ]
  },
  {
   "cell_type": "markdown",
   "id": "1828b0ed",
   "metadata": {},
   "source": [
    "### simple opinion update function"
   ]
  },
  {
   "cell_type": "code",
   "execution_count": 176,
   "id": "10159145",
   "metadata": {},
   "outputs": [],
   "source": [
    "model = opinionsModel(N = 50)\n",
    "num_steps = 100 \n",
    "for _ in range(num_steps):\n",
    "    model.step()\n",
    "    \n",
    "model_data = model.datacollector.get_model_vars_dataframe()\n",
    "agents_data = model.datacollector.get_agent_vars_dataframe()"
   ]
  },
  {
   "cell_type": "code",
   "execution_count": 144,
   "id": "41ee70e0",
   "metadata": {},
   "outputs": [
    {
     "data": {
      "image/png": "[encoded data removed]",
      "text/plain": [
       "<Figure size 640x480 with 1 Axes>"
      ]
     },
     "metadata": {},
     "output_type": "display_data"
    }
   ],
   "source": [
    "sns.lineplot(x=model_data.index, y=\"moving\", data=model_data) \n",
    "# sns.lineplot(x=model_data.index, y=\"not_moving\", data=model_data, label = \"Not Moving agents \")\n",
    "\n",
    "    \n",
    "plt.xlabel(\"Time Step\")\n",
    "plt.ylabel(\"moving agents count\")\n",
    "plt.show()"
   ]
  },
  {
   "cell_type": "code",
   "execution_count": null,
   "id": "eb5752db",
   "metadata": {},
   "outputs": [],
   "source": []
  }
 ],
 "metadata": {
  "kernelspec": {
   "display_name": "Python 3 (ipykernel)",
   "language": "python",
   "name": "python3"
  },
  "language_info": {
   "codemirror_mode": {
    "name": "ipython",
    "version": 3
   },
   "file_extension": ".py",
   "mimetype": "text/x-python",
   "name": "python",
   "nbconvert_exporter": "python",
   "pygments_lexer": "ipython3",
   "version": "3.9.17"
  }
 },
 "nbformat": 4,
 "nbformat_minor": 5
}
